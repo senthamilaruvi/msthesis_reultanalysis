{
 "cells": [
  {
   "cell_type": "code",
   "execution_count": 1,
   "metadata": {
    "collapsed": true
   },
   "outputs": [],
   "source": [
    "import os\n",
    "import numpy as np\n",
    "import pandas as pd\n",
    "import shutil\n",
    "import matplotlib.pyplot as plt\n",
    "import matplotlib.patches as mpatches\n",
    "from numpy import arange"
   ]
  },
  {
   "cell_type": "code",
   "execution_count": 2,
   "metadata": {
    "collapsed": false
   },
   "outputs": [],
   "source": [
    "os.chdir('E:\\Academics\\Research\\Data\\Experimental data\\Compression_test\\Results\\As_Built')\n",
    "# P1 = pd.read_csv('Data_Orientation.csv').dropna(axis = 0,subset = ['Yield', 'Modulus','Ultimate','Ductility'],how = 'all')\n",
    "\n",
    "P1 = pd.read_csv('Data_As_Built_Corrected.csv').dropna(axis = 0,subset = ['Yield', 'Modulus'],how = 'all')"
   ]
  },
  {
   "cell_type": "code",
   "execution_count": 3,
   "metadata": {
    "collapsed": false
   },
   "outputs": [],
   "source": [
    "Properties = ['Yield','Modulus','Ultimate','Ductility']\n",
    "\n",
    "a = 1\n",
    "\n",
    "Property = Properties[a]\n",
    "\n",
    "# For Polar Orientation\n",
    "\n",
    "A1 = P1[Property][P1['Phi']== 0].dropna().values\n",
    "A2 = P1[Property][P1['Phi']== 45].dropna().values\n",
    "A3 = P1[Property][P1['Phi']== 90].dropna().values\n",
    "\n",
    "data1 = [A1,A2,A3]\n",
    "\n",
    "\n",
    "# For Azimuthal Orientation for phi-45\n",
    "\n",
    "# A = P1[P1['Phi']== 45].dropna()\n",
    "\n",
    "# A1 = A[Property][A['Theta'] == 0].dropna().values\n",
    "# A2 = A[Property][A['Theta'] == 90].dropna().values\n",
    "# A3 = A[Property][A['Theta'] == 180].dropna().values\n",
    "# A4 = A[Property][A['Theta'] == 270].dropna().values\n",
    "\n",
    "# data1 = [A1,A2,A3,A4]\n",
    "\n",
    "# For Azimuthal Orientation for phi 90\n",
    "\n",
    "# A = P1[P1['Phi']== 90].dropna()\n",
    "\n",
    "# A1 = A[Property][A['Theta'] == 0].dropna().values\n",
    "# A2 = A[Property][A['Theta'] == 45].dropna().values\n",
    "# A3 = A[Property][A['Theta'] == 90].dropna().values\n",
    "# A4 = A[Property][A['Theta'] == 135].dropna().values\n",
    "\n",
    "# data1 = [A1,A2,A3,A4]\n",
    "\n",
    "x= ['Polar Orientation', 'Azimuthal Orientation']\n",
    "y = ['Yield Strength (Mpa)','Young\\'s Modulus (Gpa)','Ultimate Strength (Mpa)', 'Ductiliy (%)']\n",
    "\n",
    "xlab = x[1]\n",
    "ylab = y[a]"
   ]
  },
  {
   "cell_type": "code",
   "execution_count": 4,
   "metadata": {
    "collapsed": false
   },
   "outputs": [],
   "source": [
    "def add_legend(label, **kwds):\n",
    "    return mpatches.Patch(label=label, **kwds)"
   ]
  },
  {
   "cell_type": "code",
   "execution_count": 5,
   "metadata": {
    "collapsed": false
   },
   "outputs": [],
   "source": [
    "\n",
    "fig, ax = plt.subplots(figsize = (30,20))\n",
    "plt.rc('xtick', labelsize=60) \n",
    "plt.rc('ytick', labelsize=60)\n",
    "plt.rc('legend',**{'fontsize':60})\n",
    "# option 1, specify props dictionaries\n",
    "c = \"lightgreen\"\n",
    "c1 = \"green\"\n",
    "ax.boxplot(data1, positions=[1,2,3], notch=False, patch_artist=True,\n",
    "            boxprops = dict(facecolor = c,color = c1, linewidth = 5),\n",
    "            capprops=dict(color=c1,linewidth = 5),\n",
    "            whiskerprops=dict(color=c1,linewidth = 5),\n",
    "            flierprops=dict(color=c1, markeredgecolor=c1,linewidth = 5),\n",
    "            medianprops=dict(color=c1,linewidth = 5))\n",
    "compressive_handle = add_legend('As_Built', facecolor=c, edgecolor=c1)\n",
    "\n",
    "\n",
    "\n",
    "ax.set_xlim(0.5,4)\n",
    "ax.set_xticks([1,2,3])\n",
    "ax.set_xticklabels(['0','45','90'])\n",
    "ax.set_xlabel(xlab, size = 60, labelpad = 15)\n",
    "ax.set_ylabel(ylab, size = 60)\n",
    "\n",
    "\n",
    "plt.legend(handles=[compressive_handle],\n",
    "           bbox_to_anchor=(0., 1.02, 1., .102), loc=3,\n",
    "           ncol=2, mode=\"expand\", borderaxespad=0.)\n",
    "\n",
    "plt.show()"
   ]
  },
  {
   "cell_type": "code",
   "execution_count": null,
   "metadata": {
    "collapsed": true
   },
   "outputs": [],
   "source": []
  }
 ],
 "metadata": {
  "kernelspec": {
   "display_name": "Python 2",
   "language": "python",
   "name": "python2"
  },
  "language_info": {
   "codemirror_mode": {
    "name": "ipython",
    "version": 2
   },
   "file_extension": ".py",
   "mimetype": "text/x-python",
   "name": "python",
   "nbconvert_exporter": "python",
   "pygments_lexer": "ipython2",
   "version": "2.7.13"
  }
 },
 "nbformat": 4,
 "nbformat_minor": 0
}
