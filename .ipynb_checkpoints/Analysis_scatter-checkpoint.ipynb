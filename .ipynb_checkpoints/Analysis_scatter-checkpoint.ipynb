{
 "cells": [
  {
   "cell_type": "code",
   "execution_count": 35,
   "metadata": {
    "collapsed": true
   },
   "outputs": [],
   "source": [
    "import os\n",
    "import numpy as np\n",
    "import pandas as pd\n",
    "import shutil\n",
    "import matplotlib.pyplot as plt\n",
    "from numpy import arange"
   ]
  },
  {
   "cell_type": "code",
   "execution_count": 36,
   "metadata": {
    "collapsed": false
   },
   "outputs": [
    {
     "name": "stdout",
     "output_type": "stream",
     "text": [
      "         Part No Alphabet  Number  Vertical  Horizontal  Theta  Phi  Yield  \\\n",
      "0  P002_B001_B23        B      23        30          10     90   90  457.0   \n",
      "1  P002_B001_K23        K      23        30          20     90   90  625.0   \n",
      "2  P002_B001_U23        U      23        30          30     90   90  767.0   \n",
      "3  P002_B001_B22        B      22        30          10     10   10  423.0   \n",
      "4  P002_B001_K22        K      22        30          20     10   10  547.0   \n",
      "\n",
      "   Ultimate  Modulus  Ductility  \n",
      "0     773.5    120.0      26.80  \n",
      "1    1269.0    100.0      22.60  \n",
      "2    1369.0    130.0       8.53  \n",
      "3     737.0     80.0      22.00  \n",
      "4     900.0    100.0      10.30  \n"
     ]
    }
   ],
   "source": [
    "os.chdir('E:\\Academics\\Research\\Data\\Experimental data\\Compression_test\\Analysis\\P001_B001')\n",
    "P1 = pd.read_excel('P1B1_Phase1.xlsx', sheet = 1).dropna()\n",
    "\n",
    "os.chdir('E:\\Academics\\Research\\Data\\Experimental data\\Compression_test\\Analysis\\P002_B001')\n",
    "P2 = pd.read_excel('P2B1_Phase2.xlsx', sheet = 1).dropna()\n",
    "\n",
    "ab = pd.read_excel('P2B1_Asbuilt.xlsx', sheet = 1)\n",
    "m = pd.read_excel('P2B1_Machined.xlsx', sheet = 1)\n",
    "print(P2.head(5))"
   ]
  },
  {
   "cell_type": "code",
   "execution_count": 37,
   "metadata": {
    "collapsed": true
   },
   "outputs": [],
   "source": [
    "def Plot_scatter(x,y,t_p,t_l,xlab,ylab,figname):\n",
    "\n",
    "    #os.chdir('E:\\Academics\\Research\\Data\\Experimental data\\Compression test\\Results_Analysis\\Analysis\\P2_P1_Comparisson')\n",
    "\n",
    "    fig = plt.figure(figsize = (20,15),dpi = 160)\n",
    "    plt.rc('xtick', labelsize=30) \n",
    "    plt.rc('ytick', labelsize=30)\n",
    "    plt.rc('legend',**{'fontsize':30})\n",
    "\n",
    "    fig, ax = plt.subplots(figsize = (20,15),dpi = 160)\n",
    "\n",
    "    tick_positions = t_p\n",
    "    tick_labels = t_l\n",
    "\n",
    "    ax.scatter(x,y, s= 200, c = 'g', label = 'As Built')\n",
    "\n",
    "    ax.set_xticks(tick_positions)\n",
    "    ax.set_xticklabels(tick_labels,rotation = 0)\n",
    "\n",
    "    ax.set_xlabel(xlab, size = 30, labelpad = 10)\n",
    "    ax.set_ylabel(ylab, size = 30)\n",
    "    ax.legend(loc = 'upper right')\n",
    "    #plt.savefig(figname)\n",
    "    plt.show()\n",
    "    return()"
   ]
  },
  {
   "cell_type": "code",
   "execution_count": 38,
   "metadata": {
    "collapsed": false
   },
   "outputs": [],
   "source": [
    "def Plot_box(x,y,t_p,t_l,xlab,ylab,figname):\n",
    "\n",
    "    #os.chdir('E:\\Academics\\Research\\Data\\Experimental data\\Compression test\\Results_Analysis\\Analysis\\P2_P1_Comparisson')\n",
    "\n",
    "    fig = plt.figure(figsize = (20,15),dpi = 160)\n",
    "    plt.rc('xtick', labelsize=30) \n",
    "    plt.rc('ytick', labelsize=30)\n",
    "    plt.rc('legend',**{'fontsize':30})\n",
    "\n",
    "    tick_positions = t_p\n",
    "    tick_labels = t_l\n",
    "    \n",
    "    fig, ax = plt.subplots(figsize = (20,15),dpi = 160)\n",
    "\n",
    "    ax.boxplot(x,y)\n",
    "\n",
    "    ax.set_xticks(tick_positions)\n",
    "    ax.set_xticklabels(tick_labels,rotation = 0)\n",
    "\n",
    "    ax.set_xlabel(xlab, size = 30, labelpad = 10)\n",
    "    ax.set_ylabel(ylab, size = 30)\n",
    "    ax.legend(loc = 'upper right')\n",
    "    #plt.savefig(figname)\n",
    "    plt.show()\n",
    "    return()"
   ]
  },
  {
   "cell_type": "code",
   "execution_count": 39,
   "metadata": {
    "collapsed": false
   },
   "outputs": [
    {
     "ename": "TypeError",
     "evalue": "boxplot() got an unexpected keyword argument 'label'",
     "output_type": "error",
     "traceback": [
      "\u001b[1;31m---------------------------------------------------------------------------\u001b[0m",
      "\u001b[1;31mTypeError\u001b[0m                                 Traceback (most recent call last)",
      "\u001b[1;32m<ipython-input-39-922997d6b01c>\u001b[0m in \u001b[0;36m<module>\u001b[1;34m()\u001b[0m\n\u001b[0;32m     16\u001b[0m \u001b[1;33m\u001b[0m\u001b[0m\n\u001b[0;32m     17\u001b[0m \u001b[0mPlot_scatter\u001b[0m\u001b[1;33m(\u001b[0m\u001b[0mx\u001b[0m\u001b[1;33m,\u001b[0m\u001b[0my\u001b[0m\u001b[1;33m,\u001b[0m\u001b[0mt_p\u001b[0m\u001b[1;33m,\u001b[0m\u001b[0mt_2\u001b[0m\u001b[1;33m,\u001b[0m\u001b[0mxlab\u001b[0m\u001b[1;33m,\u001b[0m\u001b[0mylab\u001b[0m\u001b[1;33m,\u001b[0m\u001b[0mfigname\u001b[0m\u001b[1;33m)\u001b[0m\u001b[1;33m\u001b[0m\u001b[0m\n\u001b[1;32m---> 18\u001b[1;33m \u001b[0mPlot_box\u001b[0m\u001b[1;33m(\u001b[0m\u001b[0mx\u001b[0m\u001b[1;33m,\u001b[0m\u001b[0my\u001b[0m\u001b[1;33m,\u001b[0m\u001b[0mt_p\u001b[0m\u001b[1;33m,\u001b[0m\u001b[0mt_2\u001b[0m\u001b[1;33m,\u001b[0m\u001b[0mxlab\u001b[0m\u001b[1;33m,\u001b[0m\u001b[0mylab\u001b[0m\u001b[1;33m,\u001b[0m\u001b[0mfigname\u001b[0m\u001b[1;33m)\u001b[0m\u001b[1;33m\u001b[0m\u001b[0m\n\u001b[0m",
      "\u001b[1;32m<ipython-input-38-e4fe06deba80>\u001b[0m in \u001b[0;36mPlot_box\u001b[1;34m(x, y, t_p, t_l, xlab, ylab, figname)\u001b[0m\n\u001b[0;32m     13\u001b[0m     \u001b[0mfig\u001b[0m\u001b[1;33m,\u001b[0m \u001b[0max\u001b[0m \u001b[1;33m=\u001b[0m \u001b[0mplt\u001b[0m\u001b[1;33m.\u001b[0m\u001b[0msubplots\u001b[0m\u001b[1;33m(\u001b[0m\u001b[0mfigsize\u001b[0m \u001b[1;33m=\u001b[0m \u001b[1;33m(\u001b[0m\u001b[1;36m20\u001b[0m\u001b[1;33m,\u001b[0m\u001b[1;36m15\u001b[0m\u001b[1;33m)\u001b[0m\u001b[1;33m,\u001b[0m\u001b[0mdpi\u001b[0m \u001b[1;33m=\u001b[0m \u001b[1;36m160\u001b[0m\u001b[1;33m)\u001b[0m\u001b[1;33m\u001b[0m\u001b[0m\n\u001b[0;32m     14\u001b[0m \u001b[1;33m\u001b[0m\u001b[0m\n\u001b[1;32m---> 15\u001b[1;33m     \u001b[0max\u001b[0m\u001b[1;33m.\u001b[0m\u001b[0mboxplot\u001b[0m\u001b[1;33m(\u001b[0m\u001b[0mx\u001b[0m\u001b[1;33m,\u001b[0m\u001b[0my\u001b[0m\u001b[1;33m,\u001b[0m\u001b[0mlabel\u001b[0m \u001b[1;33m=\u001b[0m \u001b[1;34m'As Built'\u001b[0m\u001b[1;33m)\u001b[0m\u001b[1;33m\u001b[0m\u001b[0m\n\u001b[0m\u001b[0;32m     16\u001b[0m \u001b[1;33m\u001b[0m\u001b[0m\n\u001b[0;32m     17\u001b[0m     \u001b[0max\u001b[0m\u001b[1;33m.\u001b[0m\u001b[0mset_xticks\u001b[0m\u001b[1;33m(\u001b[0m\u001b[0mtick_positions\u001b[0m\u001b[1;33m)\u001b[0m\u001b[1;33m\u001b[0m\u001b[0m\n",
      "\u001b[1;32mC:\\Users\\senth\\Anaconda2\\lib\\site-packages\\matplotlib\\__init__.pyc\u001b[0m in \u001b[0;36minner\u001b[1;34m(ax, *args, **kwargs)\u001b[0m\n\u001b[0;32m   1809\u001b[0m                     warnings.warn(msg % (label_namer, func.__name__),\n\u001b[0;32m   1810\u001b[0m                                   RuntimeWarning, stacklevel=2)\n\u001b[1;32m-> 1811\u001b[1;33m             \u001b[1;32mreturn\u001b[0m \u001b[0mfunc\u001b[0m\u001b[1;33m(\u001b[0m\u001b[0max\u001b[0m\u001b[1;33m,\u001b[0m \u001b[1;33m*\u001b[0m\u001b[0margs\u001b[0m\u001b[1;33m,\u001b[0m \u001b[1;33m**\u001b[0m\u001b[0mkwargs\u001b[0m\u001b[1;33m)\u001b[0m\u001b[1;33m\u001b[0m\u001b[0m\n\u001b[0m\u001b[0;32m   1812\u001b[0m         \u001b[0mpre_doc\u001b[0m \u001b[1;33m=\u001b[0m \u001b[0minner\u001b[0m\u001b[1;33m.\u001b[0m\u001b[0m__doc__\u001b[0m\u001b[1;33m\u001b[0m\u001b[0m\n\u001b[0;32m   1813\u001b[0m         \u001b[1;32mif\u001b[0m \u001b[0mpre_doc\u001b[0m \u001b[1;32mis\u001b[0m \u001b[0mNone\u001b[0m\u001b[1;33m:\u001b[0m\u001b[1;33m\u001b[0m\u001b[0m\n",
      "\u001b[1;31mTypeError\u001b[0m: boxplot() got an unexpected keyword argument 'label'"
     ]
    }
   ],
   "source": [
    "x = P2['Vertical']\n",
    "y = P2['Yield']\n",
    "\n",
    "t_p = range(10,35,10)\n",
    "t_p1 = range(10,90,40)\n",
    "\n",
    "t_l = ['Left', 'Middle','Right']\n",
    "t_l1 = ['0','45','90']\n",
    "t_2 = ['Top', 'Middle','Bottom']\n",
    "t_21 = ['0','90','180']\n",
    "\n",
    "xlab = 'Horizontal Geography'\n",
    "ylab = 'Yield Strength (Mpa)'\n",
    "\n",
    "figname = 'Yield_Strength_Comparisson.jpg'\n",
    "\n",
    "Plot_scatter(x,y,t_p,t_2,xlab,ylab,figname)\n",
    "Plot_box(x,y,t_p,t_2,xlab,ylab,figname)"
   ]
  },
  {
   "cell_type": "code",
   "execution_count": null,
   "metadata": {
    "collapsed": true
   },
   "outputs": [],
   "source": []
  }
 ],
 "metadata": {
  "kernelspec": {
   "display_name": "Python 2",
   "language": "python",
   "name": "python2"
  },
  "language_info": {
   "codemirror_mode": {
    "name": "ipython",
    "version": 2
   },
   "file_extension": ".py",
   "mimetype": "text/x-python",
   "name": "python",
   "nbconvert_exporter": "python",
   "pygments_lexer": "ipython2",
   "version": "2.7.13"
  }
 },
 "nbformat": 4,
 "nbformat_minor": 0
}
