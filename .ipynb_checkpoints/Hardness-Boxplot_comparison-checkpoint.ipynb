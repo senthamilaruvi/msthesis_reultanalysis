{
 "cells": [
  {
   "cell_type": "code",
   "execution_count": 9,
   "metadata": {
    "collapsed": true
   },
   "outputs": [],
   "source": [
    "import os\n",
    "import numpy as np\n",
    "import pandas as pd\n",
    "import shutil\n",
    "import matplotlib.pyplot as plt\n",
    "import matplotlib.patches as mpatches\n",
    "from numpy import arange"
   ]
  },
  {
   "cell_type": "code",
   "execution_count": 10,
   "metadata": {
    "collapsed": false
   },
   "outputs": [],
   "source": [
    "os.chdir('E:\\Academics\\Research\\Data\\Experimental data\\Hardness_Test\\Results\\P002_B001')\n",
    "P1 = pd.read_csv('Data_As_Built.csv').dropna(axis = 0)\n",
    "\n",
    "os.chdir('E:\\Academics\\Research\\Data\\Experimental data\\Hardness_Test\\Results\\P001_B001')\n",
    "P2 = pd.read_csv('Data_Heat_Treated.csv').dropna(axis =0)"
   ]
  },
  {
   "cell_type": "code",
   "execution_count": 11,
   "metadata": {
    "collapsed": false
   },
   "outputs": [],
   "source": [
    "# For Polar Orientation\n",
    "\n",
    "A1 = P1['Hardness'][P1['Phi']== 0]\n",
    "A2 = P1['Hardness'][P1['Phi']== 45]\n",
    "A3 = P1['Hardness'][P1['Phi']== 90]\n",
    "\n",
    "B1 = P2['Hardness'][P2['Phi']== 0]\n",
    "B2 = P2['Hardness'][P2['Phi']== 45]\n",
    "B3 = P2['Hardness'][P2['Phi']== 90]\n",
    "\n",
    "\n",
    "\n",
    "data1 = [A1,A2,A3]\n",
    "data2 = [B1,B2,B3]\n",
    "\n",
    "x= ['Polar Orientation', 'Azimuthal Orientation']\n",
    "y = ['Vicker\\'s Hardness (HV)']\n",
    "\n",
    "xlab = x[0]\n",
    "ylab = y[0]"
   ]
  },
  {
   "cell_type": "code",
   "execution_count": 12,
   "metadata": {
    "collapsed": true
   },
   "outputs": [],
   "source": [
    "def add_legend(label, **kwds):\n",
    "    return mpatches.Patch(label=label, **kwds)"
   ]
  },
  {
   "cell_type": "code",
   "execution_count": 13,
   "metadata": {
    "collapsed": true
   },
   "outputs": [],
   "source": [
    "fig, ax = plt.subplots(figsize = (30,20))\n",
    "plt.rc('xtick', labelsize=60) \n",
    "plt.rc('ytick', labelsize=60)\n",
    "plt.rc('legend',**{'fontsize':60})\n",
    "# option 1, specify props dictionaries\n",
    "c = \"lightgreen\"\n",
    "c1 = \"green\"\n",
    "ax.boxplot(data1, positions=[1,2,3], notch=False, patch_artist=True,\n",
    "            boxprops = dict(facecolor = c,color = c1, linewidth = 5),\n",
    "            capprops=dict(color=c1,linewidth = 5),\n",
    "            whiskerprops=dict(color=c1,linewidth = 5),\n",
    "            flierprops=dict(color=c1, markeredgecolor=c1,linewidth = 5),\n",
    "            medianprops=dict(color=c1,linewidth = 5))\n",
    "compressive_handle = add_legend('As Built', facecolor=c, edgecolor=c1)\n",
    "\n",
    "c2 = \"pink\"\n",
    "c3 = \"magenta\"\n",
    "ax.boxplot(data2, positions=[1.4,2.4,3.4], notch=False, patch_artist=True,\n",
    "            boxprops = dict(facecolor = c2,color = c3, linewidth = 5),\n",
    "            capprops=dict(color=c3,linewidth = 5),\n",
    "            whiskerprops=dict(color=c3,linewidth = 5),\n",
    "            flierprops=dict(color=c3, markeredgecolor=c3, linewidth = 5),\n",
    "            medianprops=dict(color=c3, linewidth = 5))\n",
    "tensile_handle = add_legend('Heat Treated', facecolor=c2, edgecolor=c3)\n",
    "\n",
    "\n",
    "ax.set_xlim(0.5,4)\n",
    "ax.set_xticks([0.7,1.7,2.7], [1.2,2.3,3.3])\n",
    "ax.set_xticklabels(['0','45','90'])\n",
    "ax.set_xlabel(xlab, size = 60, labelpad = 15)\n",
    "ax.set_ylabel(ylab, size = 60)\n",
    "\n",
    "\n",
    "plt.legend(handles=[compressive_handle,tensile_handle],\n",
    "           bbox_to_anchor=(0., 1.02, 1., .102), loc=3,\n",
    "           ncol=2, mode=\"expand\", borderaxespad=0.)\n",
    "\n",
    "plt.show()"
   ]
  },
  {
   "cell_type": "code",
   "execution_count": null,
   "metadata": {
    "collapsed": true
   },
   "outputs": [],
   "source": []
  }
 ],
 "metadata": {
  "kernelspec": {
   "display_name": "Python 2",
   "language": "python",
   "name": "python2"
  },
  "language_info": {
   "codemirror_mode": {
    "name": "ipython",
    "version": 2
   },
   "file_extension": ".py",
   "mimetype": "text/x-python",
   "name": "python",
   "nbconvert_exporter": "python",
   "pygments_lexer": "ipython2",
   "version": "2.7.13"
  }
 },
 "nbformat": 4,
 "nbformat_minor": 0
}
