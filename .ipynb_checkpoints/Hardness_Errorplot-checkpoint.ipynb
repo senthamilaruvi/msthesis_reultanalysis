{
 "cells": [
  {
   "cell_type": "code",
   "execution_count": 13,
   "metadata": {
    "collapsed": true
   },
   "outputs": [],
   "source": [
    "import os\n",
    "import numpy as np\n",
    "import pandas as pd\n",
    "import shutil\n",
    "import matplotlib.pyplot as plt\n",
    "import matplotlib.patches as mpatches\n",
    "from numpy import arange"
   ]
  },
  {
   "cell_type": "code",
   "execution_count": 14,
   "metadata": {
    "collapsed": true
   },
   "outputs": [],
   "source": [
    "os.chdir('E:\\Academics\\Research\\Data\\Experimental data\\Hardness_Test\\Analysis\\P002_B001')\n",
    "# P1 = pd.read_csv('Data.csv').dropna(axis = 0,subset = ['Yield', 'Modulus','Ultimate','Ductility'],how = 'all')\n",
    "\n",
    "P1 = pd.read_csv('P2B1.csv').dropna(axis = 0)"
   ]
  },
  {
   "cell_type": "code",
   "execution_count": 15,
   "metadata": {
    "collapsed": false
   },
   "outputs": [],
   "source": [
    "# For Polar Orientation\n",
    "\n",
    "A1 = P1['Hardness'][P1['Phi']== 0].dropna().values\n",
    "A2 = P1['Hardness'][P1['Phi']== 45].dropna().values\n",
    "A3 = P1['Hardness'][P1['Phi']== 90].dropna().values"
   ]
  },
  {
   "cell_type": "code",
   "execution_count": 16,
   "metadata": {
    "collapsed": false
   },
   "outputs": [],
   "source": [
    "data1 = [A1,A2,A3]\n",
    "\n",
    "xlab = 'Polar Orientation'\n",
    "ylab = 'Hardness (HV)'"
   ]
  },
  {
   "cell_type": "code",
   "execution_count": 20,
   "metadata": {
    "collapsed": false
   },
   "outputs": [],
   "source": [
    "x = [1,2,3]\n",
    "y = [np.average(A1), np.average(A2),np.average(A3)]\n",
    "e = [np.std(A1), np.std(A2), np.std(A3)]"
   ]
  },
  {
   "cell_type": "code",
   "execution_count": 21,
   "metadata": {
    "collapsed": false
   },
   "outputs": [
    {
     "data": {
      "text/plain": [
       "<Container object of 3 artists>"
      ]
     },
     "execution_count": 21,
     "metadata": {},
     "output_type": "execute_result"
    }
   ],
   "source": [
    "fig, ax = plt.subplots(figsize = (30,20))\n",
    "plt.rc('xtick', labelsize=60) \n",
    "plt.rc('ytick', labelsize=60)\n",
    "plt.rc('legend',**{'fontsize':60})\n",
    "\n",
    "ax.set_xlim(0.5,4)\n",
    "ax.set_xticks([1,2,3])\n",
    "ax.set_xticklabels(['0','45','90'])\n",
    "ax.set_xlabel(xlab, size = 60, labelpad = 15)\n",
    "ax.set_ylabel(ylab, size = 60)\n",
    "\n",
    "ax.errorbar(x,y,e,linestyle = 'None',marker = 'o')"
   ]
  },
  {
   "cell_type": "code",
   "execution_count": 22,
   "metadata": {
    "collapsed": true
   },
   "outputs": [],
   "source": [
    "plt.show()"
   ]
  },
  {
   "cell_type": "code",
   "execution_count": null,
   "metadata": {
    "collapsed": true
   },
   "outputs": [],
   "source": []
  }
 ],
 "metadata": {
  "kernelspec": {
   "display_name": "Python 2",
   "language": "python",
   "name": "python2"
  },
  "language_info": {
   "codemirror_mode": {
    "name": "ipython",
    "version": 2
   },
   "file_extension": ".py",
   "mimetype": "text/x-python",
   "name": "python",
   "nbconvert_exporter": "python",
   "pygments_lexer": "ipython2",
   "version": "2.7.13"
  }
 },
 "nbformat": 4,
 "nbformat_minor": 0
}
