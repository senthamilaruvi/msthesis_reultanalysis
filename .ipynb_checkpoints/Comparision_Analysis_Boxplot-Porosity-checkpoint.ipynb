{
 "cells": [
  {
   "cell_type": "code",
   "execution_count": 85,
   "metadata": {
    "collapsed": true
   },
   "outputs": [],
   "source": [
    "import os\n",
    "import numpy as np\n",
    "import pandas as pd\n",
    "import shutil\n",
    "import matplotlib.pyplot as plt\n",
    "import matplotlib.patches as mpatches\n",
    "from numpy import arange"
   ]
  },
  {
   "cell_type": "code",
   "execution_count": 86,
   "metadata": {
    "collapsed": false
   },
   "outputs": [
    {
     "data": {
      "text/plain": [
       "['Name',\n",
       " 'Phi',\n",
       " 'Theta',\n",
       " 'Porosity_Fraction',\n",
       " 'Max_Pore_Diameter',\n",
       " 'Mean_Pore_Diameter',\n",
       " 'Median_Pore_Diameter']"
      ]
     },
     "execution_count": 86,
     "metadata": {},
     "output_type": "execute_result"
    }
   ],
   "source": [
    "os.chdir('E:\\Academics\\Research\\Data\\Experimental data\\Porosity\\Results')\n",
    "P1 = pd.read_csv('As_Built_Porosity_Data.csv')\n",
    "P2 = pd.read_csv('Machined_Porosity_Data.csv')\n",
    "\n",
    "list(P1)"
   ]
  },
  {
   "cell_type": "code",
   "execution_count": 87,
   "metadata": {
    "collapsed": false
   },
   "outputs": [],
   "source": [
    "Properties = ['Porosity_Fraction','Max_Pore_Diameter']\n",
    "a = 1\n",
    "Property = Properties[a]\n",
    "\n",
    "#For polar orientation phi\n",
    "\n",
    "A1 = P1[Property][P1['Phi']== 0].dropna().values\n",
    "A2 = P1[Property][P1['Phi']== 45].dropna().values\n",
    "A3 = P1[Property][P1['Phi']== 90].dropna().values\n",
    "\n",
    "B1 = P2[Property][P2['Phi']== 0].dropna().values\n",
    "B2 = P2[Property][P2['Phi']== 45].dropna().values\n",
    "B3 = P2[Property][P2['Phi']== 90].dropna().values\n",
    "\n",
    "data1 = [A1,A2,A3]\n",
    "data2 = [B1,B2,B3]\n",
    "\n",
    "y = ['Porosity Volume Fraction (%)', 'Maximum Pore Diameter ($\\mu$m)']\n",
    "xlab = 'Polar Orientation'\n",
    "ylab = y[a]"
   ]
  },
  {
   "cell_type": "code",
   "execution_count": 88,
   "metadata": {
    "collapsed": false
   },
   "outputs": [],
   "source": [
    "def add_legend(label, **kwds):\n",
    "    return mpatches.Patch(label=label, **kwds)"
   ]
  },
  {
   "cell_type": "code",
   "execution_count": 89,
   "metadata": {
    "collapsed": false
   },
   "outputs": [],
   "source": [
    "\n",
    "fig, ax = plt.subplots(figsize = (30,40))\n",
    "plt.rc('xtick', labelsize=30) \n",
    "plt.rc('ytick', labelsize=30)\n",
    "plt.rc('legend',**{'fontsize':30})\n",
    "# option 1, specify props dictionaries\n",
    "c = 'lightgreen'\n",
    "c1 = 'green'\n",
    "ax.boxplot(data1, positions=[1,2,3], notch=False, patch_artist=True,\n",
    "            boxprops = dict(facecolor = c,color = c1, linewidth = 2),\n",
    "            capprops=dict(color=c1,linewidth = 2),\n",
    "            whiskerprops=dict(color=c1,linewidth = 2),\n",
    "            flierprops=dict(markerfacecolor=c, markeredgecolor=c1,marker = 'D',markersize = 10,linewidth = 5),\n",
    "            medianprops=dict(color=c1,linewidth = 2))\n",
    "compressive_handle = add_legend('As Built', facecolor=c, edgecolor=c1)\n",
    "\n",
    "\n",
    "c2 = 'cyan'\n",
    "c3 = 'blue'\n",
    "ax.boxplot(data2, positions=[1.4,2.4,3.4], notch=False, patch_artist=True,\n",
    "            boxprops = dict(facecolor = c2,color = c3, linewidth = 2),\n",
    "            capprops=dict(color=c3,linewidth = 2),\n",
    "            whiskerprops=dict(color=c3,linewidth = 2),\n",
    "            flierprops=dict(markerfacecolor=c2, markeredgecolor=c3, marker = 'D',markersize = 10,linewidth = 5),\n",
    "            medianprops=dict(color=c3, linewidth = 2))\n",
    "tensile_handle = add_legend('Machined', facecolor=c2, edgecolor=c3)\n",
    "\n",
    "ax.set_xlim(0.5,4)\n",
    "ax.set_xticks([0.7,1.7,2.7], [1.2,2.3,3.3])\n",
    "ax.set_xticklabels(['0','45','90'])\n",
    "ax.set_xlabel(xlab, size = 30, labelpad = 10)\n",
    "ax.set_ylabel(ylab, size = 30)\n",
    "\n",
    "\n",
    "plt.legend(handles=[compressive_handle,tensile_handle],\n",
    "           bbox_to_anchor=(0., 1.02, 1., .102), loc=3,\n",
    "           ncol=2, mode=\"expand\", borderaxespad=0.)\n",
    "plt.savefig('Max_Pore_Diameter.jpeg')\n"
   ]
  },
  {
   "cell_type": "code",
   "execution_count": 90,
   "metadata": {
    "collapsed": true
   },
   "outputs": [],
   "source": [
    "plt.show()"
   ]
  },
  {
   "cell_type": "code",
   "execution_count": null,
   "metadata": {
    "collapsed": true
   },
   "outputs": [],
   "source": []
  }
 ],
 "metadata": {
  "kernelspec": {
   "display_name": "Python 2",
   "language": "python",
   "name": "python2"
  },
  "language_info": {
   "codemirror_mode": {
    "name": "ipython",
    "version": 2
   },
   "file_extension": ".py",
   "mimetype": "text/x-python",
   "name": "python",
   "nbconvert_exporter": "python",
   "pygments_lexer": "ipython2",
   "version": "2.7.13"
  }
 },
 "nbformat": 4,
 "nbformat_minor": 0
}
