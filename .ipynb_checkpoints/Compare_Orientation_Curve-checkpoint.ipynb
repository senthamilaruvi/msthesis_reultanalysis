{
 "cells": [
  {
   "cell_type": "code",
   "execution_count": 13,
   "metadata": {
    "collapsed": false
   },
   "outputs": [],
   "source": [
    "import pandas as pd\n",
    "import os\n",
    "import numpy as np\n",
    "import matplotlib.pyplot as plt"
   ]
  },
  {
   "cell_type": "code",
   "execution_count": 14,
   "metadata": {
    "collapsed": false
   },
   "outputs": [],
   "source": [
    "os.chdir('E:\\Academics\\Research\\Data\\Experimental data\\Compression_test\\Analysis\\SS_Plot_Thesis')\n",
    "\n",
    "Data1 = pd.read_csv('Data_0.csv')\n",
    "Data2 = pd.read_csv('Data_45.csv')\n",
    "Data3 = pd.read_csv('Data_90.csv')"
   ]
  },
  {
   "cell_type": "code",
   "execution_count": 15,
   "metadata": {
    "collapsed": false
   },
   "outputs": [],
   "source": [
    "Strain1 = Data1['Strain']\n",
    "Stress1 = Data1['Stress']\n",
    "\n",
    "Strain2 = Data2['Strain']\n",
    "Stress2 = Data2['Stress']\n",
    "\n",
    "Strain3 = Data3['Strain']\n",
    "Stress3 = Data3['Stress']\n"
   ]
  },
  {
   "cell_type": "code",
   "execution_count": 16,
   "metadata": {
    "collapsed": false
   },
   "outputs": [],
   "source": [
    "TStrain1 = np.log(1+Strain1)\n",
    "TStress1 = Stress1*np.exp(TStrain1)\n",
    "\n",
    "TStrain2 = np.log(1+Strain2)\n",
    "TStress2 = Stress2*np.exp(TStrain2)\n",
    "\n",
    "TStrain3 = np.log(1+Strain3)\n",
    "TStress3 = Stress3*np.exp(TStrain3)"
   ]
  },
  {
   "cell_type": "code",
   "execution_count": 17,
   "metadata": {
    "collapsed": false
   },
   "outputs": [
    {
     "data": {
      "text/plain": [
       "(0, 1800)"
      ]
     },
     "execution_count": 17,
     "metadata": {},
     "output_type": "execute_result"
    }
   ],
   "source": [
    "plt.figure(figsize = (20,15))\n",
    "plt.rc('xtick', labelsize=35) \n",
    "plt.rc('ytick', labelsize=35)\n",
    "plt.plot(TStrain1,TStress1, 'k-' , label = '$\\phi$ - 0',linewidth = 3)\n",
    "plt.plot(TStrain2,TStress2,'r-', label = '$\\phi$ - 45',linewidth = 3)\n",
    "plt.plot(TStrain3,TStress3,'b-', label = '$\\phi$ - 90',linewidth = 3)\n",
    "plt.legend(fontsize = 35,loc = 4)\n",
    "\n",
    "plt.xlabel('True Strain (mm/mm)', fontsize = 35, labelpad = 25)\n",
    "plt.ylabel('Ture Stress (Mpa)', fontsize = 35, labelpad = 25)\n",
    "plt.xlim([0,0.20])\n",
    "plt.ylim([0,1800])\n"
   ]
  },
  {
   "cell_type": "code",
   "execution_count": 18,
   "metadata": {
    "collapsed": false
   },
   "outputs": [],
   "source": [
    "plt.show()"
   ]
  },
  {
   "cell_type": "code",
   "execution_count": null,
   "metadata": {
    "collapsed": true
   },
   "outputs": [],
   "source": []
  }
 ],
 "metadata": {
  "kernelspec": {
   "display_name": "Python 2",
   "language": "python",
   "name": "python2"
  },
  "language_info": {
   "codemirror_mode": {
    "name": "ipython",
    "version": 2
   },
   "file_extension": ".py",
   "mimetype": "text/x-python",
   "name": "python",
   "nbconvert_exporter": "python",
   "pygments_lexer": "ipython2",
   "version": "2.7.13"
  }
 },
 "nbformat": 4,
 "nbformat_minor": 0
}
