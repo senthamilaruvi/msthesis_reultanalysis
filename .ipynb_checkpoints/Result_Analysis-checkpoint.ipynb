{
 "cells": [
  {
   "cell_type": "code",
   "execution_count": 201,
   "metadata": {
    "collapsed": true
   },
   "outputs": [],
   "source": [
    "import os\n",
    "import numpy as np\n",
    "import pandas as pd\n",
    "import shutil\n",
    "import matplotlib.pyplot as plt\n",
    "from numpy import arange\n"
   ]
  },
  {
   "cell_type": "code",
   "execution_count": 211,
   "metadata": {
    "collapsed": false
   },
   "outputs": [],
   "source": [
    "os.chdir('E:\\Academics\\Research\\Data\\Experimental data\\Compression test\\Results_Analysis\\Analysis\\P1B1_Analysis')\n",
    "P1 = pd.read_excel('P001_B001.xlsx', sheet = 1).dropna()\n",
    "\n",
    "os.chdir('E:\\Academics\\Research\\Data\\Experimental data\\Compression test\\Results_Analysis\\Analysis\\P2B1_Analysis')\n",
    "P2 = pd.read_excel('P002_Phase2_Analysis.xlsx', sheet = 1).dropna()\n",
    "\n",
    "ab = pd.read_excel('P002_Asbuilt_Analysis.xlsx', sheet = 1)\n",
    "m = pd.read_excel('P002_Machined_Analysis.xlsx', sheet = 1)\n"
   ]
  },
  {
   "cell_type": "code",
   "execution_count": 142,
   "metadata": {
    "collapsed": false
   },
   "outputs": [],
   "source": [
    "os.chdir('E:\\Academics\\Research\\Data\\Experimental data\\Compression test\\Results_Analysis\\Analysis\\P2_P1_Comparisson')\n",
    "\n",
    "fig = plt.figure(figsize = (20,15),dpi = 160)\n",
    "plt.rc('xtick', labelsize=30) \n",
    "plt.rc('ytick', labelsize=30)\n",
    "plt.rc('legend',**{'fontsize':30})\n",
    "\n",
    "fig, ax = plt.subplots(figsize = (20,15),dpi = 160)\n",
    "\n",
    "tick_positions = range(10,35,10)\n",
    "tick_labels = ['Left', 'Middle','Right']\n",
    "\n",
    "ax.scatter(P2['Horizontal'],P2['Yield'], s= 200, c = 'g', label = 'As Built')\n",
    "ax.scatter(P1['Horizontal'],P1['Yield'], s = 200, c = 'r', label = 'Heat Treated')\n",
    "\n",
    "ax.set_xticks(tick_positions)\n",
    "ax.set_xticklabels(tick_labels,rotation = 0)\n",
    "\n",
    "ax.set_xlabel('Horizontal Geography', size = 30, labelpad = 10)\n",
    "ax.set_ylabel('Yield Strength (Mpa)', size = 30)\n",
    "ax.legend(loc = 'upper right')\n",
    "plt.savefig('Yield_Strength_Comparisson.jpg')\n",
    "plt.show()\n"
   ]
  },
  {
   "cell_type": "code",
   "execution_count": 143,
   "metadata": {
    "collapsed": false
   },
   "outputs": [],
   "source": [
    "os.chdir('E:\\Academics\\Research\\Data\\Experimental data\\Compression test\\Results_Analysis\\Analysis\\P2_P1_Comparisson')\n",
    "\n",
    "tick_positions = range(10,35,10)\n",
    "tick_labels = ['Left', 'Middle','Right']\n",
    "\n",
    "fig, ax1 = plt.subplots(figsize = (20,15),dpi = 160)\n",
    "\n",
    "ax1.scatter(P2['Horizontal'],P2['Ultimate'], s= 200, c = 'g', label = 'As Built')\n",
    "ax1.scatter(P1['Horizontal'],P1['Ultimate'], s= 200, c = 'r', label = 'Heat Treated')\n",
    "\n",
    "ax1.set_xticks(tick_positions)\n",
    "ax1.set_xticklabels(tick_labels,rotation = 0)\n",
    "\n",
    "ax1.set_xlabel('Horizontal Geography', size = 30, labelpad = 10)\n",
    "ax1.set_ylabel('Ultimate Strength (Mpa)', size = 30)\n",
    "ax1.legend(loc = 'upper right')\n",
    "plt.savefig('Ultimate_Strength_Comparisson.jpg')\n",
    "plt.show()"
   ]
  },
  {
   "cell_type": "code",
   "execution_count": 145,
   "metadata": {
    "collapsed": false
   },
   "outputs": [],
   "source": [
    "os.chdir('E:\\Academics\\Research\\Data\\Experimental data\\Compression test\\Results_Analysis\\Analysis\\P2_P1_Comparisson')\n",
    "\n",
    "tick_positions = range(10,35,10)\n",
    "tick_labels = ['Left', 'Middle','Right']\n",
    "\n",
    "fig, ax2 = plt.subplots(figsize = (20,15),dpi = 160)\n",
    "\n",
    "ax2.scatter(P2['Horizontal'],P2['Modulus'], s= 200, c = 'g', label = 'As Built')\n",
    "ax2.scatter(P1['Horizontal'],P1['Modulus'], s= 200, c = 'r', label = 'Heat Treated')\n",
    "\n",
    "ax2.set_xticks(tick_positions)\n",
    "ax2.set_xticklabels(tick_labels,rotation = 0)\n",
    "\n",
    "ax2.set_xlabel('Horizontal Geography', size = 30, labelpad = 10)\n",
    "ax2.set_ylabel('Modulus (Gpa)', size = 30)\n",
    "ax2.legend(loc = 'upper right')\n",
    "plt.savefig('Modulus_Comparisson.jpg')\n",
    "plt.show()"
   ]
  },
  {
   "cell_type": "code",
   "execution_count": 147,
   "metadata": {
    "collapsed": true
   },
   "outputs": [],
   "source": [
    "os.chdir('E:\\Academics\\Research\\Data\\Experimental data\\Compression test\\Results_Analysis\\Analysis\\P2_P1_Comparisson')\n",
    "\n",
    "tick_positions = range(10,35,10)\n",
    "tick_labels = ['Left', 'Middle','Right']\n",
    "\n",
    "fig, ax3 = plt.subplots(figsize = (20,15),dpi = 160)\n",
    "\n",
    "ax3.scatter(P2['Horizontal'],P2['Ductility'], s= 200, c = 'g', label = 'As Built')\n",
    "ax3.scatter(P1['Horizontal'],P1['Ductility'], s= 200, c = 'r', label = 'Heat Treated')\n",
    "\n",
    "ax3.set_xticks(tick_positions)\n",
    "ax3.set_xticklabels(tick_labels,rotation = 0)\n",
    "\n",
    "ax3.set_xlabel('Horizontal Geography', size = 30, labelpad = 10)\n",
    "ax3.set_ylabel('Ductility(%)', size = 30)\n",
    "ax3.legend(loc = 'upper right')\n",
    "plt.savefig('Ductility_Comparisson.jpg')\n",
    "plt.show()"
   ]
  },
  {
   "cell_type": "code",
   "execution_count": 158,
   "metadata": {
    "collapsed": true
   },
   "outputs": [],
   "source": [
    "os.chdir('E:\\Academics\\Research\\Data\\Experimental data\\Compression test\\Results_Analysis\\Analysis\\P2_P1_Comparisson')\n",
    "\n",
    "tick_positions = range(10,95,40)\n",
    "tick_labels = ['0', '45','90']\n",
    "\n",
    "fig, ax4 = plt.subplots(figsize = (20,15),dpi = 160)\n",
    "\n",
    "ax4.scatter(P2['Phi'],P2['Yield'], s= 200, c = 'g', label = 'As Built')\n",
    "ax4.scatter(P1['Phi'],P1['Yield'], s= 200, c = 'r', label = 'Heat Treated')\n",
    "\n",
    "ax4.set_xticks(tick_positions)\n",
    "ax4.set_xticklabels(tick_labels,rotation = 0)\n",
    "\n",
    "ax4.set_xlabel('$\\Phi$-Orientation', size = 30, labelpad = 10)\n",
    "ax4.set_ylabel('Yield Strength (Mpa)', size = 30)\n",
    "ax4.legend(loc = 'upper right')\n",
    "plt.savefig('Yield_Comparisson_Orientation.jpg')\n",
    "plt.show()"
   ]
  },
  {
   "cell_type": "code",
   "execution_count": 159,
   "metadata": {
    "collapsed": true
   },
   "outputs": [],
   "source": [
    "os.chdir('E:\\Academics\\Research\\Data\\Experimental data\\Compression test\\Results_Analysis\\Analysis\\P2_P1_Comparisson')\n",
    "\n",
    "tick_positions = range(10,95,40)\n",
    "tick_labels = ['0', '45','90']\n",
    "\n",
    "fig, ax5 = plt.subplots(figsize = (20,15),dpi = 160)\n",
    "\n",
    "ax5.scatter(P2['Phi'],P2['Modulus'], s= 200, c = 'g', label = 'As Built')\n",
    "ax5.scatter(P1['Phi'],P1['Modulus'], s= 200, c = 'r', label = 'Heat Treated')\n",
    "\n",
    "ax5.set_xticks(tick_positions)\n",
    "ax5.set_xticklabels(tick_labels,rotation = 0)\n",
    "\n",
    "ax5.set_xlabel('$\\Phi$-Orientation', size = 30, labelpad = 10)\n",
    "ax5.set_ylabel('Modulus(Gpa)', size = 30)\n",
    "ax5.legend(loc = 'upper right')\n",
    "plt.savefig('Modulus_Comparisson_Orientation.jpg')\n",
    "plt.show()"
   ]
  },
  {
   "cell_type": "code",
   "execution_count": 163,
   "metadata": {
    "collapsed": false
   },
   "outputs": [],
   "source": [
    "os.chdir('E:\\Academics\\Research\\Data\\Experimental data\\Compression test\\Results_Analysis\\Analysis\\P2_P1_Comparisson')\n",
    "\n",
    "tick_positions = range(10,95,40)\n",
    "tick_labels = ['0', '45','90']\n",
    "\n",
    "fig, ax6 = plt.subplots(figsize = (20,15),dpi = 160)\n",
    "\n",
    "ax6.scatter(P2['Phi'],P2['Ultimate'], s= 200, c = 'g', label = 'As Built')\n",
    "ax6.scatter(P1['Phi'],P1['Ultimate'], s= 200, c = 'r', label = 'Heat Treated')\n",
    "\n",
    "ax6.set_xticks(tick_positions)\n",
    "ax6.set_xticklabels(tick_labels,rotation = 0)\n",
    "\n",
    "ax6.set_xlabel('$\\Phi$-Orientation', size = 30, labelpad = 10)\n",
    "ax6.set_ylabel('Ultimate Strength(Mpa)', size = 30)\n",
    "ax6.legend(loc = 'upper right')\n",
    "plt.savefig('Ultimate_Comparisson_Orientation.jpg')\n",
    "plt.show()"
   ]
  },
  {
   "cell_type": "code",
   "execution_count": 164,
   "metadata": {
    "collapsed": true
   },
   "outputs": [],
   "source": [
    "os.chdir('E:\\Academics\\Research\\Data\\Experimental data\\Compression test\\Results_Analysis\\Analysis\\P2_P1_Comparisson')\n",
    "\n",
    "tick_positions = range(10,95,40)\n",
    "tick_labels = ['0', '45','90']\n",
    "\n",
    "fig, ax7 = plt.subplots(figsize = (20,15),dpi = 160)\n",
    "\n",
    "ax7.scatter(P2['Phi'],P2['Ductility'], s= 200, c = 'g', label = 'As Built')\n",
    "ax7.scatter(P1['Phi'],P1['Ductility'], s= 200, c = 'r', label = 'Heat Treated')\n",
    "\n",
    "ax7.set_xticks(tick_positions)\n",
    "ax7.set_xticklabels(tick_labels,rotation = 0)\n",
    "\n",
    "ax7.set_xlabel('$\\Phi$-Orientation', size = 30, labelpad = 10)\n",
    "ax7.set_ylabel('Ductility(%)', size = 30)\n",
    "ax7.legend(loc = 'upper right')\n",
    "plt.savefig('Ductility_Comparisson_Orientation.jpg')\n",
    "plt.show()"
   ]
  },
  {
   "cell_type": "code",
   "execution_count": 212,
   "metadata": {
    "collapsed": false
   },
   "outputs": [],
   "source": [
    "os.chdir('E:\\Academics\\Research\\Data\\Experimental data\\Compression test\\Results_Analysis\\Analysis\\P2_P1_Comparisson')\n",
    "\n",
    "tick_positions = range(10,95,40)\n",
    "tick_labels = ['0', '45','90']\n",
    "\n",
    "fig, ax8 = plt.subplots(figsize = (20,15),dpi = 160)\n",
    "\n",
    "ax8.scatter(ab['P'],ab['Yield'], s= 200, c = 'g', label = 'As Built')\n",
    "ax8.scatter(m['P'],m['Yield'], s= 200, c = 'r', label = 'Machined')\n",
    "\n",
    "ax8.set_xticks(tick_positions)\n",
    "ax8.set_xticklabels(tick_labels,rotation = 0)\n",
    "\n",
    "ax8.set_xlabel('$\\Phi$-Orientation', size = 30, labelpad = 10)\n",
    "ax8.set_ylabel('Yield Strength (Mpa)', size = 30)\n",
    "ax8.legend(loc = 'upper right')\n",
    "plt.savefig('Yield_Comparisson_abndm.jpg')\n",
    "plt.show()"
   ]
  },
  {
   "cell_type": "code",
   "execution_count": 214,
   "metadata": {
    "collapsed": true
   },
   "outputs": [],
   "source": [
    "os.chdir('E:\\Academics\\Research\\Data\\Experimental data\\Compression test\\Results_Analysis\\Analysis\\P2_P1_Comparisson')\n",
    "\n",
    "tick_positions = range(10,95,40)\n",
    "tick_labels = ['0', '45','90']\n",
    "\n",
    "fig, ax9 = plt.subplots(figsize = (20,15),dpi = 160)\n",
    "\n",
    "ax9.scatter(ab['P'],ab['Modulus'], s= 200, c = 'g', label = 'As Built')\n",
    "ax9.scatter(m['P'],m['Modulus'], s= 200, c = 'r', label = 'Machined')\n",
    "\n",
    "ax9.set_xticks(tick_positions)\n",
    "ax9.set_xticklabels(tick_labels,rotation = 0)\n",
    "\n",
    "ax9.set_xlabel('$\\Phi$-Orientation', size = 30, labelpad = 10)\n",
    "ax9.set_ylabel('Modulus(Gpa)', size = 30)\n",
    "ax9.legend(loc = 'upper right')\n",
    "plt.savefig('Modulus_Comparisson_abndm.jpg')\n",
    "plt.show()"
   ]
  },
  {
   "cell_type": "code",
   "execution_count": null,
   "metadata": {
    "collapsed": true
   },
   "outputs": [],
   "source": [
    "os.chdir('E:\\Academics\\Research\\Data\\Experimental data\\Compression test\\Results_Analysis\\Analysis\\P2_P1_Comparisson')\n",
    "\n",
    "tick_positions = range(10,95,40)\n",
    "tick_labels = ['0', '45','90']\n",
    "\n",
    "fig, ax9 = plt.subplots(figsize = (20,15),dpi = 160)\n",
    "\n",
    "ax9.scatter(ab['P'],ab['Ultimate'], s= 200, c = 'g', label = 'As Built')\n",
    "ax9.scatter(m['P'],m['Ultimate'], s= 200, c = 'r', label = 'Machined')\n",
    "\n",
    "ax9.set_xticks(tick_positions)\n",
    "ax9.set_xticklabels(tick_labels,rotation = 0)\n",
    "\n",
    "ax9.set_xlabel('$\\Phi$-Orientation', size = 30, labelpad = 10)\n",
    "ax9.set_ylabel('Ultimate Strength(Mpa)', size = 30)\n",
    "ax9.legend(loc = 'upper right')\n",
    "plt.savefig('Ultimate_Comparisson_abndm.jpg')\n",
    "plt.show()"
   ]
  }
 ],
 "metadata": {
  "kernelspec": {
   "display_name": "Python 2",
   "language": "python",
   "name": "python2"
  },
  "language_info": {
   "codemirror_mode": {
    "name": "ipython",
    "version": 2
   },
   "file_extension": ".py",
   "mimetype": "text/x-python",
   "name": "python",
   "nbconvert_exporter": "python",
   "pygments_lexer": "ipython2",
   "version": "2.7.13"
  }
 },
 "nbformat": 4,
 "nbformat_minor": 0
}
