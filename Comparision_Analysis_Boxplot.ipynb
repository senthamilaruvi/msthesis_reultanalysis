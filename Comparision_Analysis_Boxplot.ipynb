{
 "cells": [
  {
   "cell_type": "code",
   "execution_count": 169,
   "metadata": {
    "collapsed": true
   },
   "outputs": [],
   "source": [
    "import os\n",
    "import numpy as np\n",
    "import pandas as pd\n",
    "import shutil\n",
    "import matplotlib.pyplot as plt\n",
    "import matplotlib.patches as mpatches\n",
    "from numpy import arange"
   ]
  },
  {
   "cell_type": "code",
   "execution_count": 170,
   "metadata": {
    "collapsed": false
   },
   "outputs": [],
   "source": [
    "# os.chdir('E:\\Academics\\Research\\Data\\Experimental data\\Compression_test\\Results\\As_Built')\n",
    "# P1 = pd.read_csv('Data_As_Built_New.csv').dropna(axis = 0,subset = ['Yield','Modulus'],how = 'all')\n",
    "\n",
    "# os.chdir('E:\\Academics\\Research\\Data\\Experimental data\\Compression_test\\Results\\Machined')\n",
    "# P2 = pd.read_csv('Data_Machined.csv').dropna(axis = 0,subset = ['Yield','Modulus'],how = 'all')\n"
   ]
  },
  {
   "cell_type": "code",
   "execution_count": 171,
   "metadata": {
    "collapsed": true
   },
   "outputs": [],
   "source": [
    "os.chdir('E:\\Academics\\Research\\Data\\Experimental data\\Tensile_test\\Results')\n",
    "P1 = pd.read_csv('P14_B1.csv').dropna(axis = 0,subset = ['Yield', 'Modulus','Ultimate','Ductility'],how = 'all')\n",
    "\n",
    "os.chdir('E:\\Academics\\Research\\Data\\Experimental data\\Tensile_test\\Results')\n",
    "P2 = pd.read_csv('P15_B1.csv').dropna(axis = 0,subset = ['Yield', 'Modulus','Ultimate','Ductility'],how = 'all')"
   ]
  },
  {
   "cell_type": "code",
   "execution_count": 172,
   "metadata": {
    "collapsed": false
   },
   "outputs": [],
   "source": [
    "Properties = ['Yield','Modulus','Ultimate', 'Ductility']\n",
    "a = 2\n",
    "Property = Properties[a]\n",
    "\n",
    "#For polar orientation phi\n",
    "\n",
    "A1 = P1[Property][P1['Phi']== 0].dropna().values\n",
    "A2 = P1[Property][P1['Phi']== 45].dropna().values\n",
    "A3 = P1[Property][P1['Phi']== 90].dropna().values\n",
    "\n",
    "B1 = P2[Property][P2['Phi']== 0].dropna().values\n",
    "B2 = P2[Property][P2['Phi']== 45].dropna().values\n",
    "B3 = P2[Property][P2['Phi']== 90].dropna().values\n",
    "\n",
    "#For azimuthal orientation theta\n",
    "\n",
    "# A = P1[P1['Phi']== 90]\n",
    "\n",
    "# A1 = A[Property][A['Theta'] == 0].values\n",
    "# A2 = A[Property][A['Theta'] == 45].values\n",
    "# A3 = A[Property][A['Theta'] == 90].values\n",
    "\n",
    "# B = P2[P2['Phi']== 90]\n",
    "\n",
    "# B1 = B[Property][B['Theta'] == 0].dropna().values\n",
    "# B2 = B[Property][B['Theta'] == 45].dropna().values\n",
    "# B3 = B[Property][B['Theta'] == 90].dropna().values\n",
    "\n",
    "\n",
    "data1 = [A1,A2,A3]\n",
    "data2 = [B1,B2,B3]\n",
    "\n",
    "y = ['Yield Strength (Mpa)', 'Young\\'s Modulus(Gpa)', 'Ultimate Strength (Mpa)','Elongation(%)']\n",
    "xlab = 'Polar Orientation'\n",
    "ylab = y[a]"
   ]
  },
  {
   "cell_type": "code",
   "execution_count": 173,
   "metadata": {
    "collapsed": false
   },
   "outputs": [],
   "source": [
    "def add_legend(label, **kwds):\n",
    "    return mpatches.Patch(label=label, **kwds)"
   ]
  },
  {
   "cell_type": "code",
   "execution_count": 174,
   "metadata": {
    "collapsed": false
   },
   "outputs": [],
   "source": [
    "\n",
    "fig, ax = plt.subplots(figsize = (14,9))\n",
    "plt.rc('xtick', labelsize=25) \n",
    "plt.rc('ytick', labelsize=25)\n",
    "plt.rc('legend',**{'fontsize':25})\n",
    "# option 1, specify props dictionaries\n",
    "c = \"lightgreen\"\n",
    "c1 = \"green\"\n",
    "ax.boxplot(data1, positions=[1,2,3], notch=False, patch_artist=True,\n",
    "            boxprops = dict(facecolor = c,color = c1, linewidth = 2),\n",
    "            capprops=dict(color=c1,linewidth = 2),\n",
    "            whiskerprops=dict(color=c1,linewidth = 2),\n",
    "            flierprops=dict(color=c1, markeredgecolor=c1,linewidth = 2),\n",
    "            medianprops=dict(color=c1,linewidth = 2))\n",
    "compressive_handle = add_legend('As Built', facecolor=c, edgecolor=c1)\n",
    "\n",
    "\n",
    "c2 = \"pink\"\n",
    "c3 = \"magenta\"\n",
    "ax.boxplot(data2, positions=[1.4,2.4,3.4], notch=False, patch_artist=True,\n",
    "            boxprops = dict(facecolor = c2,color = c3, linewidth = 2),\n",
    "            capprops=dict(color=c3,linewidth = 2),\n",
    "            whiskerprops=dict(color=c3,linewidth = 2),\n",
    "            flierprops=dict(color=c3, markeredgecolor=c3, linewidth = 2),\n",
    "            medianprops=dict(color=c3, linewidth = 2))\n",
    "tensile_handle = add_legend('Heat Treated', facecolor=c2, edgecolor=c3)\n",
    "ax.set_xlim(0.5,4)\n",
    "ax.set_xticks([0.7,1.7,2.7], [1.2,2.3,3.3])\n",
    "ax.set_xticklabels(['0','45','90'])\n",
    "ax.set_xlabel(xlab, size = 25, labelpad = 5)\n",
    "ax.set_ylabel(ylab, size = 25)\n",
    "\n",
    "\n",
    "plt.legend(handles=[compressive_handle,tensile_handle],\n",
    "           bbox_to_anchor=(0., 1.02, 1., .102), loc=3,\n",
    "           ncol=2, mode=\"expand\", borderaxespad=0.)\n",
    "\n",
    "# plt.legend(handles=[tensile_handle],\n",
    "#            bbox_to_anchor=(0., 1.02, 1., .102), loc=1,\n",
    "#            ncol=3, mode=\"expand\", borderaxespad=0.)\n",
    "\n",
    "\n",
    "plt.show()"
   ]
  },
  {
   "cell_type": "code",
   "execution_count": null,
   "metadata": {
    "collapsed": true
   },
   "outputs": [],
   "source": []
  },
  {
   "cell_type": "code",
   "execution_count": null,
   "metadata": {
    "collapsed": true
   },
   "outputs": [],
   "source": []
  }
 ],
 "metadata": {
  "kernelspec": {
   "display_name": "Python 2",
   "language": "python",
   "name": "python2"
  },
  "language_info": {
   "codemirror_mode": {
    "name": "ipython",
    "version": 2
   },
   "file_extension": ".py",
   "mimetype": "text/x-python",
   "name": "python",
   "nbconvert_exporter": "python",
   "pygments_lexer": "ipython2",
   "version": "2.7.13"
  }
 },
 "nbformat": 4,
 "nbformat_minor": 0
}
