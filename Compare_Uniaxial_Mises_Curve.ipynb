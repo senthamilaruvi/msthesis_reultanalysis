{
 "cells": [
  {
   "cell_type": "code",
   "execution_count": 53,
   "metadata": {
    "collapsed": false
   },
   "outputs": [],
   "source": [
    "import pandas as pd\n",
    "import os\n",
    "import numpy as np\n",
    "import matplotlib.pyplot as plt"
   ]
  },
  {
   "cell_type": "code",
   "execution_count": 54,
   "metadata": {
    "collapsed": false
   },
   "outputs": [],
   "source": [
    "os.chdir('Z:\\Compression\\Raw_Data\\P002_B001\\As_Built\\New_Results\\P002_B001_A23\\Results')\n",
    "\n",
    "Data = pd.read_csv('Data.csv')\n",
    "\n",
    "Strain = Data['Strain']\n",
    "Mises = Data['Mises']\n",
    "Stress = Data['Stress']"
   ]
  },
  {
   "cell_type": "code",
   "execution_count": 55,
   "metadata": {
    "collapsed": false
   },
   "outputs": [
    {
     "data": {
      "text/plain": [
       "(0, 1563.4607956699999)"
      ]
     },
     "execution_count": 55,
     "metadata": {},
     "output_type": "execute_result"
    }
   ],
   "source": [
    "plt.figure(figsize = (20,15))\n",
    "plt.rc('xtick', labelsize=35) \n",
    "plt.rc('ytick', labelsize=35)\n",
    "plt.plot(Strain, Stress, 'k-' , label = 'uniaxial',linewidth = 3)\n",
    "plt.plot(Mises, Stress,'r-', label = 'mises',linewidth = 3)\n",
    "plt.legend(fontsize = 35,loc = 4)\n",
    "\n",
    "plt.xlabel('Engineering Uniaxial/Mises Strain (mm/mm)', fontsize = 35, labelpad = 25)\n",
    "plt.ylabel('Engineering Stress (Mpa)', fontsize = 35, labelpad = 25)\n",
    "plt.xlim([0,np.max(Strain)+0.01])\n",
    "plt.ylim([0,np.max(Stress)+200])\n"
   ]
  },
  {
   "cell_type": "code",
   "execution_count": 56,
   "metadata": {
    "collapsed": false
   },
   "outputs": [],
   "source": [
    "plt.show()"
   ]
  },
  {
   "cell_type": "code",
   "execution_count": null,
   "metadata": {
    "collapsed": true
   },
   "outputs": [],
   "source": []
  }
 ],
 "metadata": {
  "kernelspec": {
   "display_name": "Python 2",
   "language": "python",
   "name": "python2"
  },
  "language_info": {
   "codemirror_mode": {
    "name": "ipython",
    "version": 2
   },
   "file_extension": ".py",
   "mimetype": "text/x-python",
   "name": "python",
   "nbconvert_exporter": "python",
   "pygments_lexer": "ipython2",
   "version": "2.7.13"
  }
 },
 "nbformat": 4,
 "nbformat_minor": 0
}
