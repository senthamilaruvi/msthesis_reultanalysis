{
 "cells": [
  {
   "cell_type": "code",
   "execution_count": 97,
   "metadata": {
    "collapsed": true
   },
   "outputs": [],
   "source": [
    "import os\n",
    "import numpy as np\n",
    "import pandas as pd\n",
    "import shutil\n",
    "import matplotlib.pyplot as plt\n",
    "from numpy import arange\n",
    "import  pandas.tools.plotting as ptp"
   ]
  },
  {
   "cell_type": "code",
   "execution_count": 98,
   "metadata": {
    "collapsed": false
   },
   "outputs": [
    {
     "name": "stdout",
     "output_type": "stream",
     "text": [
      "          Part No Alphabet  Number  Block  Theta  Phi   Yield  Ultimate  \\\n",
      "0   P014_B001_A04        A       4      1      0   45  718.45   1081.71   \n",
      "1   P014_B001_A07        A       7      1      0    0  521.51    836.83   \n",
      "2   P014_B001_A09        A       9      1     45    0  619.16    971.69   \n",
      "3   P014_B001_A10        A      10      1     90    0  630.23   1016.25   \n",
      "4   P014_B001_A16        A      16      2      0   45  686.00    982.13   \n",
      "5   P014_B001_A23        A      23      2     90    0  678.86   1067.75   \n",
      "6   P014_B001_B14        B      14      2      0   90  823.10   1104.20   \n",
      "7   P014_B001_B15        B      15      2     90   90  860.53   1136.56   \n",
      "8   P014_B001_D04        D       4      1     45   90  768.96   1049.08   \n",
      "9   P014_B001_D08        D       8      1    315   45  673.83    985.38   \n",
      "10  P014_B001_D21        D      21      2    315   45  674.27   1006.88   \n",
      "11  P014_B001_F03        F       3      1    135    0  654.48   1078.41   \n",
      "12  P014_B001_F15        F      15      2    135    0  650.96   1037.54   \n",
      "13  P014_B001_G09        G       9      1     90    0  646.31   1043.64   \n",
      "14  P014_B001_G25        G      25      2      0    0  635.60   1086.63   \n",
      "15  P014_B001_H05        H       5      1    180   45  726.36   1050.19   \n",
      "16  P014_B001_H18        H      18      2    180   45  698.20   1011.94   \n",
      "17  P014_B001_I05        I       5      1    135   45  714.15   1047.31   \n",
      "18  P014_B001_J04        J       4      1     90   45  720.77   1058.25   \n",
      "19  P014_B001_J16        J      16      2     90   45  755.01   1112.02   \n",
      "20  P014_B001_L13        L      13      1    270   45  732.62   1061.64   \n",
      "21  P014_B001_L24        L      24      1    270   45  754.06   1089.77   \n",
      "22  P014_B001_M04        M       4      4      0   45  802.53   1167.34   \n",
      "23  P014_B001_M09        M       9      4     45    0  637.74   1052.43   \n",
      "24  P014_B001_M10        M      10      4     90    0  603.93   1025.31   \n",
      "25  P014_B001_N01        N       1      4      0   90  752.07   1055.59   \n",
      "26  P014_B001_N03        N       3      4     90   90  850.49   1152.02   \n",
      "27  P014_B001_N21        N      21      3     45    0  627.69   1043.40   \n",
      "28  P014_B001_N23        N      23      3     90    0  642.27   1033.41   \n",
      "29  P014_B001_O14        O      14      3      0   90  803.02   1122.57   \n",
      "30  P014_B001_O15        O      15      3     90   90  877.20   1174.40   \n",
      "31  P014_B001_S12        S      12      4      0    0  626.32   1008.73   \n",
      "32  P014_B001_S15        S      15      3     90    0  630.21   1028.68   \n",
      "33  P014_B001_T24        T      24      3     45    0  605.32   1036.92   \n",
      "34  P014_B001_T25        T      25      3      0    0  627.14   1032.69   \n",
      "35  P014_B001_X13        X      13      4    270   45  725.61    945.06   \n",
      "36  P014_B001_X24        X      24      3    270   45  775.72   1141.33   \n",
      "\n",
      "    Modulus  Ductility       R2  Data_Points      COV  \n",
      "0       170      28.84  0.99130           18  2.34205  \n",
      "1       104      22.34  0.99293           11  2.81274  \n",
      "2       125      25.85  0.98387           16  3.42203  \n",
      "3       144      23.48  0.99226           10  3.12257  \n",
      "4       160      12.97  0.99339           20  1.92267  \n",
      "5       154      26.50  0.99553           12  2.11898  \n",
      "6       202      27.82  0.99645           76  0.69386  \n",
      "7       202      17.82  0.99700           66  0.68568  \n",
      "8       158      20.75  0.99768           53  0.67525  \n",
      "9       152      30.36  0.99271           19  2.07840  \n",
      "10      164      27.89  0.99197           13  2.71276  \n",
      "11      159      29.04  0.99533            7  3.06330  \n",
      "12      143      26.54  0.98807           12  3.47477  \n",
      "13      133      25.38  0.99380           11  2.63284  \n",
      "14      167      26.25  0.98023            7  6.35118  \n",
      "15      153      29.09  0.99453           20  1.74803  \n",
      "16      149      28.71  0.99616           20  1.46341  \n",
      "17      159      28.65  0.99596           15  1.76644  \n",
      "18      165      27.89  0.99542           20  1.59880  \n",
      "19      185      28.49  0.99658           12  1.85249  \n",
      "20      168      19.26  0.99317           20  1.95462  \n",
      "21      161      25.45  0.99788           20  1.08641  \n",
      "22      189      23.21  0.99612           15  1.73097  \n",
      "23      148      24.47  0.99619            8  2.52473  \n",
      "24      144      29.01  0.99848            8  1.59286  \n",
      "25      186      32.26  0.99894           58  0.43530  \n",
      "26      211      23.50  0.99722           66  0.65999  \n",
      "27      152      28.53  0.99241            8  3.57026  \n",
      "28      132      27.82  0.99394           12  2.46920  \n",
      "29      200      29.77  0.99853           55  0.52704  \n",
      "30      206      22.52  0.99811           63  0.55716  \n",
      "31      123      29.10  0.99676           13  1.71902  \n",
      "32      131      29.07  0.99607           11  2.09378  \n",
      "33      152      28.10  0.99813            8  1.76706  \n",
      "34      130      28.05  0.99069           11  3.23136  \n",
      "35      185       5.71  0.99797           14  1.30196  \n",
      "36      179      27.22  0.99237           17  2.26402  \n"
     ]
    }
   ],
   "source": [
    "# os.chdir('E:\\Academics\\Research\\Data\\Experimental data\\Hardness_Test\\Analysis\\P001_B001')\n",
    "# P1 = pd.read_excel('Results.xlsx', sheetname = 'Python_Data').dropna()\n",
    "# P1.head()\n",
    "os.chdir('E:\\Academics\\Research\\Data\\Experimental data\\Tensile_test\\Analysis\\P014_B001')\n",
    "P14 = pd.read_excel('P14_B1.xlsx', sheetname = 'Python_Data').dropna()\n",
    "print(P14)"
   ]
  },
  {
   "cell_type": "code",
   "execution_count": 99,
   "metadata": {
    "collapsed": true
   },
   "outputs": [],
   "source": [
    "map_phi = {90: '^', 0: '',45: ''}\n",
    "map_theta = {0:'g',45:'b',90:'r',135:'c',180:'k',270:'y',315:'m'}"
   ]
  },
  {
   "cell_type": "code",
   "execution_count": 100,
   "metadata": {
    "collapsed": false
   },
   "outputs": [],
   "source": [
    "plt.plot(figsize = (20,15),dpi = 160)\n",
    "plt.rc('xtick', labelsize=40) \n",
    "plt.rc('ytick', labelsize =40)\n",
    "\n",
    "# for row in P1.itertuples():\n",
    "#     plt.plot(map_alphabet[row.Alphabet], row.Hardness,\n",
    "#              marker=map_phi[row.Phi],color = 'r', markersize = 30)\n",
    "\n",
    "for row in P14.itertuples():\n",
    "    plt.plot(row.Block, row.Modulus,\n",
    "              marker=map_phi[row.Phi],color = map_theta[row.Theta], markersize = 30)\n",
    "        \n",
    "plt.xlabel('Geography',fontsize = 40,labelpad = 5)\n",
    "plt.ylabel('Young\\'s Modulus (Gpa)',fontsize =40,labelpad = 10)\n",
    "plt.xlim([0,5])\n",
    "plt.show()"
   ]
  },
  {
   "cell_type": "code",
   "execution_count": null,
   "metadata": {
    "collapsed": true
   },
   "outputs": [],
   "source": []
  }
 ],
 "metadata": {
  "kernelspec": {
   "display_name": "Python 2",
   "language": "python",
   "name": "python2"
  },
  "language_info": {
   "codemirror_mode": {
    "name": "ipython",
    "version": 2
   },
   "file_extension": ".py",
   "mimetype": "text/x-python",
   "name": "python",
   "nbconvert_exporter": "python",
   "pygments_lexer": "ipython2",
   "version": "2.7.13"
  }
 },
 "nbformat": 4,
 "nbformat_minor": 0
}
