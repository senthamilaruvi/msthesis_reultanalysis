{
 "cells": [
  {
   "cell_type": "code",
   "execution_count": 2,
   "metadata": {
    "collapsed": true
   },
   "outputs": [],
   "source": [
    "import os\n",
    "import numpy as np\n",
    "import pandas as pd\n",
    "import shutil\n",
    "import matplotlib.pyplot as plt\n",
    "from numpy import arange"
   ]
  },
  {
   "cell_type": "code",
   "execution_count": 3,
   "metadata": {
    "collapsed": false
   },
   "outputs": [],
   "source": [
    "os.chdir('E:\\Academics\\Research\\Data\\Experimental data\\Compression_test\\Results\\As_Built')\n",
    "P1 = pd.read_csv('Data_As_Built_Location.csv').dropna(axis = 0)"
   ]
  },
  {
   "cell_type": "code",
   "execution_count": 4,
   "metadata": {
    "collapsed": false
   },
   "outputs": [],
   "source": [
    "Properties = ['Yield','Modulus','Ultimate','Ductility']\n",
    "\n",
    "Property = Properties[1]\n",
    "\n",
    "A1 = P1[Property][P1['Phi']== 0].dropna().values\n",
    "A2 = P1[Property][P1['Phi']== 45].dropna().values\n",
    "A3 = P1[Property][P1['Phi']== 90].dropna().values\n",
    "\n",
    "x = [10,20,30,40,50,60]"
   ]
  },
  {
   "cell_type": "code",
   "execution_count": 5,
   "metadata": {
    "collapsed": true
   },
   "outputs": [],
   "source": [
    "tick_positions = range(10,70,10)\n",
    "tick_labels = ['0-40', '40-80','80-120', '120-160','160-200']"
   ]
  },
  {
   "cell_type": "code",
   "execution_count": 6,
   "metadata": {
    "collapsed": false
   },
   "outputs": [],
   "source": [
    "fig = plt.figure(figsize = (20,15),dpi = 160)\n",
    "plt.rc('xtick', labelsize=30) \n",
    "plt.rc('ytick', labelsize=30)\n",
    "plt.rc('legend',**{'fontsize':30})\n",
    "\n",
    "fig, ax = plt.subplots(figsize = (20,15),dpi = 160)\n",
    "\n",
    "# ax.scatter(x,A1, s= 200, c = 'g', label = '0')\n",
    "# ax.scatter(x,A2, s = 200, c = 'r', label = '45')\n",
    "# ax.scatter(x,A3, s = 200, c = 'b', label = '90')\n",
    "\n",
    "ax.plot(x,A1, 'r-', label = '0')\n",
    "ax.plot(x,A2, 'g-', label = '45')\n",
    "ax.plot(x,A3, 'b-',label = '90')\n",
    "\n",
    "ax.set_xticks(tick_positions)\n",
    "ax.set_xticklabels(tick_labels,rotation = 0)\n",
    "\n",
    "xlab = 'location (mm)'\n",
    "y = ['Yield Strength (Mpa)','Young\\'s Modulus (Gpa)']\n",
    "ylab = 'Yield Strength (Mpa)'\n",
    "\n",
    "ax.set_xlabel(xlab, size = 30, labelpad = 10)\n",
    "ax.set_ylabel(ylab, size = 30)\n",
    "ax.legend(loc = 'upper right')\n",
    "plt.show()"
   ]
  },
  {
   "cell_type": "code",
   "execution_count": null,
   "metadata": {
    "collapsed": true
   },
   "outputs": [],
   "source": []
  }
 ],
 "metadata": {
  "kernelspec": {
   "display_name": "Python 2",
   "language": "python",
   "name": "python2"
  },
  "language_info": {
   "codemirror_mode": {
    "name": "ipython",
    "version": 2
   },
   "file_extension": ".py",
   "mimetype": "text/x-python",
   "name": "python",
   "nbconvert_exporter": "python",
   "pygments_lexer": "ipython2",
   "version": "2.7.13"
  }
 },
 "nbformat": 4,
 "nbformat_minor": 0
}
