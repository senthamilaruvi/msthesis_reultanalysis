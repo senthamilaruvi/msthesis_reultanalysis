{
 "cells": [
  {
   "cell_type": "code",
   "execution_count": 1,
   "metadata": {
    "collapsed": true
   },
   "outputs": [],
   "source": [
    "import os\n",
    "import numpy as np\n",
    "import pandas as pd\n",
    "import shutil\n",
    "import matplotlib.pyplot as plt\n",
    "from numpy import arange"
   ]
  },
  {
   "cell_type": "code",
   "execution_count": 2,
   "metadata": {
    "collapsed": false
   },
   "outputs": [
    {
     "ename": "WindowsError",
     "evalue": "[Error 3] The system cannot find the path specified: 'E:\\\\Academics\\\\Research\\\\Data\\\\Experimental data\\\\Compression test\\\\Results_Analysis\\\\Analysis\\\\P1B1_Analysis'",
     "output_type": "error",
     "traceback": [
      "\u001b[1;31m---------------------------------------------------------------------------\u001b[0m",
      "\u001b[1;31mWindowsError\u001b[0m                              Traceback (most recent call last)",
      "\u001b[1;32m<ipython-input-2-bf0067e8a616>\u001b[0m in \u001b[0;36m<module>\u001b[1;34m()\u001b[0m\n\u001b[1;32m----> 1\u001b[1;33m \u001b[0mos\u001b[0m\u001b[1;33m.\u001b[0m\u001b[0mchdir\u001b[0m\u001b[1;33m(\u001b[0m\u001b[1;34m'E:\\Academics\\Research\\Data\\Experimental data\\Compression test\\Results_Analysis\\Analysis\\P1B1_Analysis'\u001b[0m\u001b[1;33m)\u001b[0m\u001b[1;33m\u001b[0m\u001b[0m\n\u001b[0m\u001b[0;32m      2\u001b[0m \u001b[0mP1\u001b[0m \u001b[1;33m=\u001b[0m \u001b[0mpd\u001b[0m\u001b[1;33m.\u001b[0m\u001b[0mread_excel\u001b[0m\u001b[1;33m(\u001b[0m\u001b[1;34m'P001_B001.xlsx'\u001b[0m\u001b[1;33m,\u001b[0m \u001b[0msheet\u001b[0m \u001b[1;33m=\u001b[0m \u001b[1;36m1\u001b[0m\u001b[1;33m)\u001b[0m\u001b[1;33m.\u001b[0m\u001b[0mdropna\u001b[0m\u001b[1;33m(\u001b[0m\u001b[1;33m)\u001b[0m\u001b[1;33m\u001b[0m\u001b[0m\n\u001b[0;32m      3\u001b[0m \u001b[1;33m\u001b[0m\u001b[0m\n\u001b[0;32m      4\u001b[0m \u001b[0mos\u001b[0m\u001b[1;33m.\u001b[0m\u001b[0mchdir\u001b[0m\u001b[1;33m(\u001b[0m\u001b[1;34m'E:\\Academics\\Research\\Data\\Experimental data\\Compression test\\Results_Analysis\\Analysis\\P2B1_Analysis'\u001b[0m\u001b[1;33m)\u001b[0m\u001b[1;33m\u001b[0m\u001b[0m\n\u001b[0;32m      5\u001b[0m \u001b[0mP2\u001b[0m \u001b[1;33m=\u001b[0m \u001b[0mpd\u001b[0m\u001b[1;33m.\u001b[0m\u001b[0mread_excel\u001b[0m\u001b[1;33m(\u001b[0m\u001b[1;34m'P002_Phase2_Analysis.xlsx'\u001b[0m\u001b[1;33m,\u001b[0m \u001b[0msheet\u001b[0m \u001b[1;33m=\u001b[0m \u001b[1;36m1\u001b[0m\u001b[1;33m)\u001b[0m\u001b[1;33m.\u001b[0m\u001b[0mdropna\u001b[0m\u001b[1;33m(\u001b[0m\u001b[1;33m)\u001b[0m\u001b[1;33m\u001b[0m\u001b[0m\n",
      "\u001b[1;31mWindowsError\u001b[0m: [Error 3] The system cannot find the path specified: 'E:\\\\Academics\\\\Research\\\\Data\\\\Experimental data\\\\Compression test\\\\Results_Analysis\\\\Analysis\\\\P1B1_Analysis'"
     ]
    }
   ],
   "source": [
    "os.chdir('E:\\Academics\\Research\\Data\\Experimental data\\Compression test\\Results_Analysis\\Analysis\\P1B1_Analysis')\n",
    "P1 = pd.read_excel('P001_B001.xlsx', sheet = 1).dropna()\n",
    "\n",
    "os.chdir('E:\\Academics\\Research\\Data\\Experimental data\\Compression test\\Results_Analysis\\Analysis\\P2B1_Analysis')\n",
    "P2 = pd.read_excel('P002_Phase2_Analysis.xlsx', sheet = 1).dropna()\n",
    "\n",
    "ab = pd.read_excel('P002_Asbuilt_Analysis.xlsx', sheet = 1)\n",
    "m = pd.read_excel('P002_Machined_Analysis.xlsx', sheet = 1)\n",
    "print(P2.head(5))"
   ]
  },
  {
   "cell_type": "code",
   "execution_count": null,
   "metadata": {
    "collapsed": true
   },
   "outputs": [],
   "source": [
    "def Graphplotcomp(x,y,x1,y1,t_p,t_l,xlab,ylab,figname):\n",
    "\n",
    "    os.chdir('E:\\Academics\\Research\\Data\\Experimental data\\Compression test\\Results_Analysis\\Analysis\\P2_P1_Comparisson')\n",
    "\n",
    "    fig = plt.figure(figsize = (20,15),dpi = 160)\n",
    "    plt.rc('xtick', labelsize=30) \n",
    "    plt.rc('ytick', labelsize=30)\n",
    "    plt.rc('legend',**{'fontsize':30})\n",
    "\n",
    "    fig, ax = plt.subplots(figsize = (20,15),dpi = 160)\n",
    "\n",
    "    tick_positions = t_p\n",
    "    tick_labels = t_l\n",
    "\n",
    "    ax.scatter(x,y, s= 200, c = 'g', label = 'As Built')\n",
    "    ax.scatter(x1,y1, s = 200, c = 'r', label = 'Heat Treated')\n",
    "\n",
    "    ax.set_xticks(tick_positions)\n",
    "    ax.set_xticklabels(tick_labels,rotation = 0)\n",
    "\n",
    "    ax.set_xlabel(xlab, size = 30, labelpad = 10)\n",
    "    ax.set_ylabel(ylab, size = 30)\n",
    "    ax.legend(loc = 'upper right')\n",
    "#     plt.savefig(figname)\n",
    "    plt.show()\n",
    "    return()"
   ]
  },
  {
   "cell_type": "code",
   "execution_count": null,
   "metadata": {
    "collapsed": false
   },
   "outputs": [],
   "source": [
    "x = P2['Horizontal']\n",
    "y = P2['Yield']\n",
    "\n",
    "x1 = P1['Horizontal']\n",
    "y1 = P1['Yield']\n",
    "\n",
    "t_p = range(10,35,10)\n",
    "t_p1 = range(10,90,40)\n",
    "\n",
    "t_l = ['Left', 'Middle','Right']\n",
    "t_l1 = ['0','45','90']\n",
    "\n",
    "xlab = 'Horizontal Geography'\n",
    "ylab = 'Yield Strength (Mpa)'\n",
    "figname = 'Yield_Strength_Comparisson.jpg'\n",
    "\n",
    "Graphplotcomp(x,y,x1,y1,t_p,t_l,xlab,ylab,figname)\n"
   ]
  },
  {
   "cell_type": "code",
   "execution_count": null,
   "metadata": {
    "collapsed": true
   },
   "outputs": [],
   "source": []
  }
 ],
 "metadata": {
  "kernelspec": {
   "display_name": "Python 2",
   "language": "python",
   "name": "python2"
  },
  "language_info": {
   "codemirror_mode": {
    "name": "ipython",
    "version": 2
   },
   "file_extension": ".py",
   "mimetype": "text/x-python",
   "name": "python",
   "nbconvert_exporter": "python",
   "pygments_lexer": "ipython2",
   "version": "2.7.13"
  }
 },
 "nbformat": 4,
 "nbformat_minor": 0
}
