{
 "cells": [
  {
   "cell_type": "code",
   "execution_count": 96,
   "metadata": {
    "collapsed": true
   },
   "outputs": [],
   "source": [
    "import os\n",
    "import numpy as np\n",
    "import pandas as pd\n",
    "import shutil\n",
    "import matplotlib.pyplot as plt\n",
    "from numpy import arange"
   ]
  },
  {
   "cell_type": "code",
   "execution_count": 97,
   "metadata": {
    "collapsed": false
   },
   "outputs": [
    {
     "name": "stdout",
     "output_type": "stream",
     "text": [
      "          Part No Alphabet  Number  Theta  Phi  Hardness\n",
      "0   P002-B001-F23        F      23     90   90   317.800\n",
      "1   P002-B001-F22        F      22      0    0   330.875\n",
      "2   P002-B001-F21        F      21     90   45   325.100\n",
      "3   P002-B001-J23        J      23     90   90   305.700\n",
      "4   P002-B001-J22        J      22      0    0   307.200\n",
      "5   P002-B001-J21        J      21     90   45   312.000\n",
      "6   P002-B001-S23        S      23     90   90   306.900\n",
      "7   P002-B001-S22        S      22      0    0   301.700\n",
      "8   P002-B001-S21        S      21     90   45   313.800\n",
      "9   P002-B001-D14        D      14     90   90   333.400\n",
      "11  P002-B001-D12        D      12     90   45   305.300\n",
      "12  P002-B001-J14        J      14     90   90   313.100\n",
      "13  P002-B001-I13        I      13      0    0   318.700\n",
      "14  P002-B001-J12        J      12     90   45   303.500\n",
      "15  P002-B001-S14        S      14     90   90   292.300\n",
      "16  P002-B001-S13        S      13      0    0   309.500\n",
      "17  P002-B001-S12        S      12     90   45   297.100\n",
      "18  P002-B001-B05        B       5     90   90   320.700\n",
      "19  P002-B001-C04        C       4      0    0   312.500\n",
      "21  P002-B001-I05        I       5     90   90   295.700\n",
      "22  P002-B001-J04        J       4      0    0   314.400\n",
      "23  P002-B001-J03        J       3     90   45   312.800\n",
      "24  P002-B001-S05        S       5     90   90   297.100\n",
      "25  P002-B001-S04        S       4      0    0   311.900\n",
      "26  P002-B001-S03        S       3     90   45   303.600\n"
     ]
    }
   ],
   "source": [
    "os.chdir('E:\\Academics\\Research\\Data\\Experimental data\\Hardness_Test\\Analysis\\P001_B001')\n",
    "P1 = pd.read_excel('Results.xlsx', sheetname = 'Python_Data').dropna()\n",
    "P1.head()\n",
    "os.chdir('E:\\Academics\\Research\\Data\\Experimental data\\Hardness_Test\\Analysis\\P002_B001')\n",
    "P2 = pd.read_excel('Results.xlsx', sheetname = 'Python_Data').dropna()\n",
    "print(P2)"
   ]
  },
  {
   "cell_type": "code",
   "execution_count": 98,
   "metadata": {
    "collapsed": false
   },
   "outputs": [],
   "source": [
    "map_alphabet = {'A':1,'B':2,'C':3,'D':4,'E':5,'F':6,'G':7,'H':8,'I':9,'J':10,'K':11,'L':12,\n",
    "                'M':13,'N':14,'O':15,'P':16,'Q':17,'R':18,'S':19,'T':20,'U':21,'V':22,'W':23,'X':24,'Y':25}\n",
    "map_phi = {90: '^', 0: 'o',45: 'D'}\n",
    "map_color = {25:'g',24:'g',23:'g',22:'g',21:'g',20:'g',19:'g',\n",
    "             18:'r',17:'r',16:'r',15:'r',14:'r',13:'r',12:'r',11:'r',10:'r',9:'r',8:'r',\n",
    "             7:'b',6:'b',5:'b',4:'b',3:'b',2:'b',1:'b'}"
   ]
  },
  {
   "cell_type": "code",
   "execution_count": 99,
   "metadata": {
    "collapsed": false
   },
   "outputs": [],
   "source": [
    "plt.plot(figsize = (20,15),dpi = 160)\n",
    "plt.rc('xtick', labelsize=50) \n",
    "plt.rc('ytick', labelsize =50)\n",
    "\n",
    "for row in P1.itertuples():\n",
    "    plt.plot(map_alphabet[row.Alphabet], row.Hardness,\n",
    "             marker=map_phi[row.Phi],color = 'r', markersize = 30)\n",
    "\n",
    "for row in P2.itertuples():\n",
    "    plt.plot(map_alphabet[row.Alphabet], row.Hardness,\n",
    "              marker=map_phi[row.Phi],color = 'g', markersize = 30)\n",
    "        \n",
    "xtick = plt.xticks([1,2,3,4,5,6,7,8,9,10,11,12,13,14,15,16,17,18,19,20,21,22,23,24,25], \n",
    "                   ['A', 'B', 'C','D','E','F','G','H','I','J','K','L','M','N','O','P','Q','R','S','T','U','V','W','X','Y'])\n",
    "plt.xlabel('Horizontal Geography',fontsize = 50,labelpad = 20)\n",
    "plt.ylabel('Average Vickers Hardness(HV)',fontsize =50,labelpad = 20)\n",
    "plt.show()"
   ]
  },
  {
   "cell_type": "code",
   "execution_count": null,
   "metadata": {
    "collapsed": true
   },
   "outputs": [],
   "source": []
  }
 ],
 "metadata": {
  "kernelspec": {
   "display_name": "Python 2",
   "language": "python",
   "name": "python2"
  },
  "language_info": {
   "codemirror_mode": {
    "name": "ipython",
    "version": 2
   },
   "file_extension": ".py",
   "mimetype": "text/x-python",
   "name": "python",
   "nbconvert_exporter": "python",
   "pygments_lexer": "ipython2",
   "version": "2.7.13"
  }
 },
 "nbformat": 4,
 "nbformat_minor": 0
}
