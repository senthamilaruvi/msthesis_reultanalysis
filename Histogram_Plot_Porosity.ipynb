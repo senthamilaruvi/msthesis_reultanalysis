{
 "cells": [
  {
   "cell_type": "code",
   "execution_count": 1,
   "metadata": {
    "collapsed": true
   },
   "outputs": [],
   "source": [
    "%matplotlib inline"
   ]
  },
  {
   "cell_type": "code",
   "execution_count": 2,
   "metadata": {
    "collapsed": true
   },
   "outputs": [],
   "source": [
    "import os\n",
    "import numpy as np\n",
    "import pandas as pd\n",
    "import matplotlib.pyplot as plt\n",
    "import matplotlib.patches as mpatches\n",
    "from numpy import arange"
   ]
  },
  {
   "cell_type": "code",
   "execution_count": 3,
   "metadata": {
    "collapsed": false
   },
   "outputs": [
    {
     "data": {
      "text/plain": [
       "['Name',\n",
       " 'Phi',\n",
       " 'Theta',\n",
       " 'Porosity_Fraction',\n",
       " 'Max_Pore_Diameter',\n",
       " 'Mean_Pore_Diameter',\n",
       " 'Median_Pore_Diameter']"
      ]
     },
     "execution_count": 3,
     "metadata": {},
     "output_type": "execute_result"
    }
   ],
   "source": [
    "os.chdir('E:\\Academics\\Research\\Data\\Experimental data\\Porosity\\Results')\n",
    "P1 = pd.read_csv('As_Built_Porosity_Data.csv')\n",
    "A1 = pd.read_csv('Machined_Porosity_Data.csv')\n",
    "\n",
    "list(P1)"
   ]
  },
  {
   "cell_type": "code",
   "execution_count": 4,
   "metadata": {
    "collapsed": false
   },
   "outputs": [],
   "source": [
    "P2 = P1[P1['Phi']== 0]\n",
    "P3 = P1[P1['Phi']== 45]\n",
    "P4 = P1[P1['Phi']== 90]\n",
    "\n",
    "A2 = A1[A1['Phi']== 0]\n",
    "A3 = A1[A1['Phi']== 45]\n",
    "A4 = A1[A1['Phi']== 90]"
   ]
  },
  {
   "cell_type": "code",
   "execution_count": 5,
   "metadata": {
    "collapsed": false
   },
   "outputs": [
    {
     "data": {
      "image/png": "[encoded data removed]",
      "text/plain": [
       "<matplotlib.figure.Figure at 0x8c15278>"
      ]
     },
     "metadata": {},
     "output_type": "display_data"
    }
   ],
   "source": [
    "fig = plt.figure(figsize=(12,6))\n",
    "\n",
    "fig.subplots_adjust(hspace=.5)\n",
    "\n",
    "ax1 = fig.add_subplot(121)\n",
    "ax1.hist(P1['Porosity_Fraction'], bins = 6)\n",
    "ax1.set_xlabel('Porosity Volume Fraction (%)', fontsize = 12)\n",
    "ax1.set_ylabel('Frequency', fontsize = 12)\n",
    "ax1.set_title('As Built')\n",
    "\n",
    "ax2 = fig.add_subplot(122)\n",
    "ax2.hist(A1['Porosity_Fraction'], bins =6)\n",
    "ax2.set_xlabel('Porosity Volume Fraction (%)', fontsize = 12)\n",
    "ax2.set_ylabel('Frequency', fontsize = 12)\n",
    "ax2.set_title('Machined')\n",
    "\n",
    "plt.show()"
   ]
  },
  {
   "cell_type": "code",
   "execution_count": 6,
   "metadata": {
    "collapsed": false
   },
   "outputs": [
    {
     "data": {
      "text/plain": [
       "'Maximum Pore Diameter ($\\\\mu$m)'"
      ]
     },
     "execution_count": 6,
     "metadata": {},
     "output_type": "execute_result"
    }
   ],
   "source": [
    "'Maximum Pore Diameter ($\\mu$m)'"
   ]
  },
  {
   "cell_type": "code",
   "execution_count": null,
   "metadata": {
    "collapsed": false
   },
   "outputs": [],
   "source": []
  },
  {
   "cell_type": "code",
   "execution_count": 7,
   "metadata": {
    "collapsed": false
   },
   "outputs": [
    {
     "ename": "SyntaxError",
     "evalue": "invalid syntax (<ipython-input-7-74e42dce545f>, line 1)",
     "output_type": "error",
     "traceback": [
      "\u001b[1;36m  File \u001b[1;32m\"<ipython-input-7-74e42dce545f>\"\u001b[1;36m, line \u001b[1;32m1\u001b[0m\n\u001b[1;33m    Porosity Distribution $\\Phi$ = 0\u001b[0m\n\u001b[1;37m                        ^\u001b[0m\n\u001b[1;31mSyntaxError\u001b[0m\u001b[1;31m:\u001b[0m invalid syntax\n"
     ]
    }
   ],
   "source": [
    "Porosity Distribution $\\Phi$ = 0"
   ]
  }
 ],
 "metadata": {
  "kernelspec": {
   "display_name": "Python 2",
   "language": "python",
   "name": "python2"
  },
  "language_info": {
   "codemirror_mode": {
    "name": "ipython",
    "version": 2
   },
   "file_extension": ".py",
   "mimetype": "text/x-python",
   "name": "python",
   "nbconvert_exporter": "python",
   "pygments_lexer": "ipython2",
   "version": "2.7.13"
  }
 },
 "nbformat": 4,
 "nbformat_minor": 0
}
