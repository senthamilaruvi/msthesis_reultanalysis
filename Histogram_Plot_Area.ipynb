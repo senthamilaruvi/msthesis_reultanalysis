{
 "cells": [
  {
   "cell_type": "code",
   "execution_count": 1,
   "metadata": {
    "collapsed": true
   },
   "outputs": [],
   "source": [
    "%matplotlib inline"
   ]
  },
  {
   "cell_type": "code",
   "execution_count": 2,
   "metadata": {
    "collapsed": true
   },
   "outputs": [],
   "source": [
    "import os\n",
    "import numpy as np\n",
    "import pandas as pd\n",
    "import matplotlib.pyplot as plt\n",
    "import matplotlib.patches as mpatches\n",
    "from numpy import arange"
   ]
  },
  {
   "cell_type": "code",
   "execution_count": 3,
   "metadata": {
    "collapsed": false
   },
   "outputs": [
    {
     "data": {
      "text/plain": [
       "[u'Samples',\n",
       " u'Phi',\n",
       " u'Theta',\n",
       " u'Minimum Pixel count',\n",
       " u'Pixel Size',\n",
       " u'Minimum Area',\n",
       " 'Unnamed: 6']"
      ]
     },
     "execution_count": 3,
     "metadata": {},
     "output_type": "execute_result"
    }
   ],
   "source": [
    "os.chdir('E:\\Academics\\Research\\Data\\Experimental data\\Compression_test\\Results')\n",
    "P1 = pd.read_excel('P002_B001_Area.xlsx')\n",
    "list(P1)\n"
   ]
  },
  {
   "cell_type": "code",
   "execution_count": 4,
   "metadata": {
    "collapsed": false
   },
   "outputs": [],
   "source": [
    "P2 = P1[P1['Phi']== 0]\n",
    "P3 = P1[P1['Phi']== 45]\n",
    "P4 = P1[P1['Phi']== 90]"
   ]
  },
  {
   "cell_type": "code",
   "execution_count": 5,
   "metadata": {
    "collapsed": false
   },
   "outputs": [
    {
     "data": {
      "text/plain": [
       "<matplotlib.text.Text at 0x8a3d048>"
      ]
     },
     "execution_count": 5,
     "metadata": {},
     "output_type": "execute_result"
    },
    {
     "data": {
      "image/png": "[encoded data removed]",
      "text/plain": [
       "<matplotlib.figure.Figure at 0x8962588>"
      ]
     },
     "metadata": {},
     "output_type": "display_data"
    }
   ],
   "source": [
    "fig = plt.figure(figsize=(14,7))\n",
    "\n",
    "fig.subplots_adjust(hspace=.5)\n",
    "\n",
    "fig.suptitle(\"Distribution_of_area\", fontsize=16)\n",
    "\n",
    "ax1 = fig.add_subplot(131)\n",
    "ax1.hist(P2['Minimum Area'], bins = 6)\n",
    "ax1.set_xlabel('Area', fontsize = 12)\n",
    "ax1.set_ylabel('Frequency', fontsize = 12)\n",
    "\n",
    "ax2 = fig.add_subplot(132)\n",
    "ax2.hist(P3['Minimum Area'], bins =6)\n",
    "ax2.set_xlabel('Area', fontsize = 12)\n",
    "ax2.set_ylabel('Frequency', fontsize = 12)\n",
    "\n",
    "ax3 = fig.add_subplot(133)\n",
    "ax3.hist(P4['Minimum Area'], bins =6)\n",
    "ax3.set_xlabel('Area', fontsize = 12)\n",
    "ax3.set_ylabel('Frequency', fontsize = 12)\n",
    "\n"
   ]
  },
  {
   "cell_type": "code",
   "execution_count": null,
   "metadata": {
    "collapsed": true
   },
   "outputs": [],
   "source": []
  }
 ],
 "metadata": {
  "kernelspec": {
   "display_name": "Python 2",
   "language": "python",
   "name": "python2"
  },
  "language_info": {
   "codemirror_mode": {
    "name": "ipython",
    "version": 2
   },
   "file_extension": ".py",
   "mimetype": "text/x-python",
   "name": "python",
   "nbconvert_exporter": "python",
   "pygments_lexer": "ipython2",
   "version": "2.7.13"
  }
 },
 "nbformat": 4,
 "nbformat_minor": 0
}
