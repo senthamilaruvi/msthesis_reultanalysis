{
 "cells": [
  {
   "cell_type": "code",
   "execution_count": 11,
   "metadata": {
    "collapsed": true
   },
   "outputs": [],
   "source": [
    "import os\n",
    "import numpy as np\n",
    "import json\n",
    "from heapq import nlargest\n",
    "import pandas as pd"
   ]
  },
  {
   "cell_type": "code",
   "execution_count": 12,
   "metadata": {
    "collapsed": true
   },
   "outputs": [],
   "source": [
    "path = 'E:\\Academics\\Research\\Data\\Experimental data\\Porosity\\JSON_Data\\As_Build'"
   ]
  },
  {
   "cell_type": "code",
   "execution_count": 13,
   "metadata": {
    "collapsed": true
   },
   "outputs": [],
   "source": [
    "Large_Pore_Diameters = []\n",
    "Name = []\n",
    "Max_Pore_Diameter = []\n",
    "Porosity_Fraction = []\n",
    "Mean_Pore_Diameter = []\n",
    "Median_Pore_Diameter = []\n",
    "Min_Pore_Diameter = []\n",
    "Neighbor_Pore_Distance = []\n"
   ]
  },
  {
   "cell_type": "code",
   "execution_count": 14,
   "metadata": {
    "collapsed": false
   },
   "outputs": [
    {
     "name": "stdout",
     "output_type": "stream",
     "text": [
      "E:\\Academics\\Research\\Data\\Experimental data\\Porosity\\JSON_Data\\As_Build\n"
     ]
    }
   ],
   "source": [
    "for root, dirs, files in os.walk(path):\n",
    "    print root\n",
    "    for f in files:\n",
    "        os.chdir(root)\n",
    "        with open(f) as json_data:\n",
    "            d = json.load(json_data)\n",
    "            Pore_Volume = d['pore volume']\n",
    "            Name.append(f[0:13])\n",
    "            Max_Pore_Diameter.append(d['max pore diameter'])\n",
    "            Porosity_Fraction.append(d['fraction porosity'])\n",
    "            Mean_Pore_Diameter.append(d['mean pore diameter'])\n",
    "            Median_Pore_Diameter.append(d['median pore diameter'])\n",
    "            Neighbor_Pore_Distance.append(d['neighbor pore distance'])\n",
    "\n",
    "            Pore_Diameter = []\n",
    "\n",
    "            for volume in Pore_Volume:\n",
    "                diameter = 2*(((3*volume)/(4*np.pi))**(1./3))\n",
    "                Pore_Diameter.append(diameter)\n",
    "                Large_Pore_Diameters.append(nlargest(10,Pore_Diameter))"
   ]
  },
  {
   "cell_type": "code",
   "execution_count": 15,
   "metadata": {
    "collapsed": false
   },
   "outputs": [
    {
     "data": {
      "text/plain": [
       "[u'pore ID',\n",
       " u'center of mass Z',\n",
       " u'neighbor pore distance',\n",
       " u'center of mass X',\n",
       " u'center of mass Y',\n",
       " u'median pore spacing',\n",
       " u'fraction porosity',\n",
       " u'pore volume',\n",
       " u'mean pore diameter',\n",
       " u'median pore diameter',\n",
       " u'max pore diameter']"
      ]
     },
     "execution_count": 15,
     "metadata": {},
     "output_type": "execute_result"
    }
   ],
   "source": [
    "list(d.keys())"
   ]
  },
  {
   "cell_type": "code",
   "execution_count": 16,
   "metadata": {
    "collapsed": false
   },
   "outputs": [],
   "source": [
    "Machined_Porosity_Data = pd.DataFrame({'Name': Name, 'Porosity_Fraction':Porosity_Fraction,'Max_Pore_Diameter':Max_Pore_Diameter, \n",
    "                                       'Mean_Pore_Diameter':Mean_Pore_Diameter,'Median_Pore_Diameter':Median_Pore_Diameter},\n",
    "                                      columns = ['Name','Porosity_Fraction','Max_Pore_Diameter','Mean_Pore_Diameter','Median_Pore_Diameter'])"
   ]
  },
  {
   "cell_type": "code",
   "execution_count": 17,
   "metadata": {
    "collapsed": false
   },
   "outputs": [],
   "source": [
    "Machined_Porosity_Data.to_csv('As_Build_Porosity_Data.csv')"
   ]
  },
  {
   "cell_type": "code",
   "execution_count": null,
   "metadata": {
    "collapsed": true
   },
   "outputs": [],
   "source": []
  }
 ],
 "metadata": {
  "kernelspec": {
   "display_name": "Python 2",
   "language": "python",
   "name": "python2"
  },
  "language_info": {
   "codemirror_mode": {
    "name": "ipython",
    "version": 2
   },
   "file_extension": ".py",
   "mimetype": "text/x-python",
   "name": "python",
   "nbconvert_exporter": "python",
   "pygments_lexer": "ipython2",
   "version": "2.7.13"
  }
 },
 "nbformat": 4,
 "nbformat_minor": 0
}
